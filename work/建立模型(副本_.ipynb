{
 "cells": [
  {
   "cell_type": "code",
   "execution_count": 1,
   "id": "green-immunology",
   "metadata": {},
   "outputs": [],
   "source": [
    "# 训练模型\n",
    "## 快速训练和测试：xgboost训练\n",
    "## 提取训练特征集\n",
    "## 并按照0.8 ： 0.2比例分割训练集和测试集\n",
    "from sklearn.model_selection import train_test_split\n",
    "import xgboost as xgb\n",
    "###  把训练集进行分隔成训练集，验证集，测试集"
   ]
  },
  {
   "cell_type": "code",
   "execution_count": 2,
   "id": "blessed-reasoning",
   "metadata": {},
   "outputs": [],
   "source": [
    "import pandas as pd\n",
    "import os\n",
    "import math      \n",
    "import numpy as np\n",
    "from tqdm import tqdm\n",
    "import matplotlib.pyplot as plt \n",
    "import time\n",
    "import warnings \n",
    "import seaborn as sns \n",
    "warnings.filterwarnings('ignore') "
   ]
  },
  {
   "cell_type": "code",
   "execution_count": 3,
   "id": "metropolitan-concert",
   "metadata": {},
   "outputs": [],
   "source": [
    "B_data=pd.read_csv(\"../../dataSet/GT3X-V2.8-00/Bdata.csv\",  index_col=\"Unnamed: 0\")\n",
    "T_data=pd.read_csv(\"../../dataSet/GT3X-V2.8-00/Tdata.csv\",  index_col=\"Unnamed: 0\")"
   ]
  },
  {
   "cell_type": "code",
   "execution_count": 4,
   "id": "presidential-celebrity",
   "metadata": {},
   "outputs": [
    {
     "data": {
      "text/html": [
       "<div>\n",
       "<style scoped>\n",
       "    .dataframe tbody tr th:only-of-type {\n",
       "        vertical-align: middle;\n",
       "    }\n",
       "\n",
       "    .dataframe tbody tr th {\n",
       "        vertical-align: top;\n",
       "    }\n",
       "\n",
       "    .dataframe thead th {\n",
       "        text-align: right;\n",
       "    }\n",
       "</style>\n",
       "<table border=\"1\" class=\"dataframe\">\n",
       "  <thead>\n",
       "    <tr style=\"text-align: right;\">\n",
       "      <th></th>\n",
       "      <th>Component ID</th>\n",
       "      <th>Volume(%)</th>\n",
       "      <th>Height(um)</th>\n",
       "      <th>Area(%)</th>\n",
       "      <th>OffsetX(mm)</th>\n",
       "      <th>OffsetY(mm)</th>\n",
       "      <th>Result</th>\n",
       "      <th>Panel</th>\n",
       "    </tr>\n",
       "  </thead>\n",
       "  <tbody>\n",
       "    <tr>\n",
       "      <th>0</th>\n",
       "      <td>1:C2</td>\n",
       "      <td>98.832</td>\n",
       "      <td>106.662</td>\n",
       "      <td>92.660</td>\n",
       "      <td>0.005</td>\n",
       "      <td>0.000</td>\n",
       "      <td>1</td>\n",
       "      <td>1.0</td>\n",
       "    </tr>\n",
       "    <tr>\n",
       "      <th>1</th>\n",
       "      <td>1:C2</td>\n",
       "      <td>95.402</td>\n",
       "      <td>100.189</td>\n",
       "      <td>95.222</td>\n",
       "      <td>0.000</td>\n",
       "      <td>0.000</td>\n",
       "      <td>1</td>\n",
       "      <td>1.0</td>\n",
       "    </tr>\n",
       "    <tr>\n",
       "      <th>2</th>\n",
       "      <td>1:C10</td>\n",
       "      <td>103.047</td>\n",
       "      <td>111.748</td>\n",
       "      <td>92.214</td>\n",
       "      <td>-0.011</td>\n",
       "      <td>0.007</td>\n",
       "      <td>1</td>\n",
       "      <td>1.0</td>\n",
       "    </tr>\n",
       "    <tr>\n",
       "      <th>3</th>\n",
       "      <td>1:C10</td>\n",
       "      <td>105.500</td>\n",
       "      <td>117.418</td>\n",
       "      <td>89.850</td>\n",
       "      <td>0.000</td>\n",
       "      <td>0.007</td>\n",
       "      <td>1</td>\n",
       "      <td>1.0</td>\n",
       "    </tr>\n",
       "    <tr>\n",
       "      <th>4</th>\n",
       "      <td>1:C11</td>\n",
       "      <td>103.741</td>\n",
       "      <td>117.714</td>\n",
       "      <td>88.129</td>\n",
       "      <td>-0.008</td>\n",
       "      <td>-0.006</td>\n",
       "      <td>1</td>\n",
       "      <td>1.0</td>\n",
       "    </tr>\n",
       "  </tbody>\n",
       "</table>\n",
       "</div>"
      ],
      "text/plain": [
       "  Component ID  Volume(%)  Height(um)  Area(%)  OffsetX(mm)  OffsetY(mm)  \\\n",
       "0         1:C2     98.832     106.662   92.660        0.005        0.000   \n",
       "1         1:C2     95.402     100.189   95.222        0.000        0.000   \n",
       "2        1:C10    103.047     111.748   92.214       -0.011        0.007   \n",
       "3        1:C10    105.500     117.418   89.850        0.000        0.007   \n",
       "4        1:C11    103.741     117.714   88.129       -0.008       -0.006   \n",
       "\n",
       "   Result  Panel  \n",
       "0       1    1.0  \n",
       "1       1    1.0  \n",
       "2       1    1.0  \n",
       "3       1    1.0  \n",
       "4       1    1.0  "
      ]
     },
     "execution_count": 4,
     "metadata": {},
     "output_type": "execute_result"
    }
   ],
   "source": [
    "B_data.head()"
   ]
  },
  {
   "cell_type": "code",
   "execution_count": 5,
   "id": "occupational-ozone",
   "metadata": {},
   "outputs": [
    {
     "data": {
      "text/plain": [
       "Component ID    0\n",
       "Volume(%)       0\n",
       "Height(um)      0\n",
       "Area(%)         0\n",
       "OffsetX(mm)     0\n",
       "OffsetY(mm)     0\n",
       "Result          0\n",
       "Panel           0\n",
       "dtype: int64"
      ]
     },
     "execution_count": 5,
     "metadata": {},
     "output_type": "execute_result"
    }
   ],
   "source": [
    "B_data.isnull().sum()"
   ]
  },
  {
   "cell_type": "code",
   "execution_count": 6,
   "id": "italian-alignment",
   "metadata": {},
   "outputs": [
    {
     "name": "stdout",
     "output_type": "stream",
     "text": [
      "<class 'pandas.core.frame.DataFrame'>\n",
      "Int64Index: 6557880 entries, 0 to 6559432\n",
      "Data columns (total 8 columns):\n",
      " #   Column        Dtype  \n",
      "---  ------        -----  \n",
      " 0   Component ID  object \n",
      " 1   Volume(%)     float64\n",
      " 2   Height(um)    float64\n",
      " 3   Area(%)       float64\n",
      " 4   OffsetX(mm)   float64\n",
      " 5   OffsetY(mm)   float64\n",
      " 6   Result        int64  \n",
      " 7   Panel         float64\n",
      "dtypes: float64(6), int64(1), object(1)\n",
      "memory usage: 450.3+ MB\n"
     ]
    }
   ],
   "source": [
    "B_data.info()"
   ]
  },
  {
   "cell_type": "markdown",
   "id": "infrared-career",
   "metadata": {},
   "source": [
    "#### 切分数据集"
   ]
  },
  {
   "cell_type": "code",
   "execution_count": 7,
   "id": "duplicate-commissioner",
   "metadata": {},
   "outputs": [],
   "source": [
    "x = B_data[[\"Volume(%)\",\"Height(um)\",\"Area(%)\" , \"OffsetX(mm)\" ,\"OffsetY(mm)\" ]]\n",
    "y = B_data.loc[:,B_data.columns == 'Result']"
   ]
  },
  {
   "cell_type": "code",
   "execution_count": 8,
   "id": "turkish-bidder",
   "metadata": {},
   "outputs": [],
   "source": [
    "x_train, x_test, y_train, y_test = train_test_split(x,y,test_size = 0.2, random_state = 0)"
   ]
  },
  {
   "cell_type": "code",
   "execution_count": 17,
   "id": "conditional-corner",
   "metadata": {
    "collapsed": true
   },
   "outputs": [
    {
     "name": "stdout",
     "output_type": "stream",
     "text": [
      "[14:29:57] WARNING: C:\\Users\\Administrator\\workspace\\xgboost-win64_release_1.2.0\\src\\learner.cc:516: \n",
      "Parameters: { n_estimators, silent } might not be used.\n",
      "\n",
      "  This may not be accurate due to some parameters are only used in language bindings but\n",
      "  passed down to XGBoost core.  Or some parameters are not used but slip through this\n",
      "  verification. Please open an issue if you find above cases.\n",
      "\n",
      "\n",
      "[14:29:57] WARNING: C:\\Users\\Administrator\\workspace\\xgboost-win64_release_1.2.0\\src\\gbm\\gbtree.cc:139: Tree method is automatically selected to be 'approx' for faster speed. To use old behavior (exact greedy algorithm on single machine), set tree_method to 'exact'.\n",
      "[0]\ttrain-auc:0.98601\ttest-auc:0.98295\n",
      "Multiple eval metrics have been passed: 'test-auc' will be used for early stopping.\n",
      "\n",
      "Will train until test-auc hasn't improved in 10 rounds.\n",
      "[1]\ttrain-auc:0.98745\ttest-auc:0.98450\n",
      "[2]\ttrain-auc:0.98826\ttest-auc:0.98441\n",
      "[3]\ttrain-auc:0.98847\ttest-auc:0.98463\n",
      "[4]\ttrain-auc:0.98852\ttest-auc:0.98473\n",
      "[5]\ttrain-auc:0.98852\ttest-auc:0.98473\n",
      "[6]\ttrain-auc:0.98851\ttest-auc:0.98471\n",
      "[7]\ttrain-auc:0.98852\ttest-auc:0.98471\n",
      "[8]\ttrain-auc:0.98855\ttest-auc:0.98475\n",
      "[9]\ttrain-auc:0.98855\ttest-auc:0.98475\n",
      "[10]\ttrain-auc:0.98856\ttest-auc:0.98476\n",
      "[11]\ttrain-auc:0.98866\ttest-auc:0.98481\n",
      "[12]\ttrain-auc:0.98869\ttest-auc:0.98484\n",
      "[13]\ttrain-auc:0.98863\ttest-auc:0.98478\n",
      "[14]\ttrain-auc:0.98864\ttest-auc:0.98481\n",
      "[15]\ttrain-auc:0.98871\ttest-auc:0.98485\n",
      "[16]\ttrain-auc:0.98873\ttest-auc:0.98489\n",
      "[17]\ttrain-auc:0.98876\ttest-auc:0.98490\n",
      "[18]\ttrain-auc:0.98879\ttest-auc:0.98492\n",
      "[19]\ttrain-auc:0.98885\ttest-auc:0.98499\n",
      "[20]\ttrain-auc:0.98886\ttest-auc:0.98498\n",
      "[21]\ttrain-auc:0.98888\ttest-auc:0.98500\n",
      "[22]\ttrain-auc:0.98889\ttest-auc:0.98501\n",
      "[23]\ttrain-auc:0.98890\ttest-auc:0.98501\n",
      "[24]\ttrain-auc:0.98894\ttest-auc:0.98504\n",
      "[25]\ttrain-auc:0.98896\ttest-auc:0.98505\n",
      "[26]\ttrain-auc:0.98899\ttest-auc:0.98507\n",
      "[27]\ttrain-auc:0.98902\ttest-auc:0.98509\n",
      "[28]\ttrain-auc:0.98907\ttest-auc:0.98512\n",
      "[29]\ttrain-auc:0.98911\ttest-auc:0.98515\n",
      "[30]\ttrain-auc:0.98914\ttest-auc:0.98518\n",
      "[31]\ttrain-auc:0.98918\ttest-auc:0.98520\n",
      "[32]\ttrain-auc:0.98921\ttest-auc:0.98524\n",
      "[33]\ttrain-auc:0.98924\ttest-auc:0.98526\n",
      "[34]\ttrain-auc:0.98926\ttest-auc:0.98529\n",
      "[35]\ttrain-auc:0.98929\ttest-auc:0.98531\n",
      "[36]\ttrain-auc:0.98931\ttest-auc:0.98533\n",
      "[37]\ttrain-auc:0.99101\ttest-auc:0.98525\n",
      "[38]\ttrain-auc:0.99109\ttest-auc:0.98526\n",
      "[39]\ttrain-auc:0.99815\ttest-auc:0.99582\n",
      "[40]\ttrain-auc:0.99816\ttest-auc:0.99583\n",
      "[41]\ttrain-auc:0.99817\ttest-auc:0.99584\n",
      "[42]\ttrain-auc:0.99817\ttest-auc:0.99584\n",
      "[43]\ttrain-auc:0.99818\ttest-auc:0.99584\n",
      "[44]\ttrain-auc:0.99818\ttest-auc:0.99584\n",
      "[45]\ttrain-auc:0.99823\ttest-auc:0.99591\n",
      "[46]\ttrain-auc:0.99824\ttest-auc:0.99592\n",
      "[47]\ttrain-auc:0.99830\ttest-auc:0.99601\n",
      "[48]\ttrain-auc:0.99832\ttest-auc:0.99603\n",
      "[49]\ttrain-auc:0.99837\ttest-auc:0.99606\n",
      "[50]\ttrain-auc:0.99837\ttest-auc:0.99607\n",
      "[51]\ttrain-auc:0.99838\ttest-auc:0.99609\n",
      "[52]\ttrain-auc:0.99839\ttest-auc:0.99610\n",
      "[53]\ttrain-auc:0.99839\ttest-auc:0.99610\n",
      "[54]\ttrain-auc:0.99840\ttest-auc:0.99610\n",
      "[55]\ttrain-auc:0.99840\ttest-auc:0.99611\n",
      "[56]\ttrain-auc:0.99840\ttest-auc:0.99611\n",
      "[57]\ttrain-auc:0.99843\ttest-auc:0.99614\n",
      "[58]\ttrain-auc:0.99844\ttest-auc:0.99614\n",
      "[59]\ttrain-auc:0.99844\ttest-auc:0.99614\n",
      "[60]\ttrain-auc:0.99844\ttest-auc:0.99614\n",
      "[61]\ttrain-auc:0.99844\ttest-auc:0.99612\n",
      "[62]\ttrain-auc:0.99844\ttest-auc:0.99612\n",
      "[63]\ttrain-auc:0.99844\ttest-auc:0.99613\n",
      "[64]\ttrain-auc:0.99973\ttest-auc:0.99780\n",
      "[65]\ttrain-auc:0.99972\ttest-auc:0.99778\n",
      "[66]\ttrain-auc:0.99975\ttest-auc:0.99781\n",
      "[67]\ttrain-auc:0.99975\ttest-auc:0.99781\n",
      "[68]\ttrain-auc:0.99975\ttest-auc:0.99782\n",
      "[69]\ttrain-auc:0.99974\ttest-auc:0.99779\n",
      "[70]\ttrain-auc:0.99976\ttest-auc:0.99781\n",
      "[71]\ttrain-auc:0.99979\ttest-auc:0.99773\n",
      "[72]\ttrain-auc:0.99980\ttest-auc:0.99952\n",
      "[73]\ttrain-auc:0.99981\ttest-auc:0.99953\n",
      "[74]\ttrain-auc:0.99981\ttest-auc:0.99954\n",
      "[75]\ttrain-auc:0.99981\ttest-auc:0.99951\n",
      "[76]\ttrain-auc:0.99982\ttest-auc:0.99956\n",
      "[77]\ttrain-auc:0.99984\ttest-auc:0.99959\n",
      "[78]\ttrain-auc:0.99985\ttest-auc:0.99963\n",
      "[79]\ttrain-auc:0.99985\ttest-auc:0.99963\n",
      "[80]\ttrain-auc:0.99986\ttest-auc:0.99962\n",
      "[81]\ttrain-auc:0.99986\ttest-auc:0.99964\n",
      "[82]\ttrain-auc:0.99986\ttest-auc:0.99965\n",
      "[83]\ttrain-auc:0.99987\ttest-auc:0.99964\n",
      "[84]\ttrain-auc:0.99987\ttest-auc:0.99966\n",
      "[85]\ttrain-auc:0.99987\ttest-auc:0.99965\n",
      "[86]\ttrain-auc:0.99988\ttest-auc:0.99966\n",
      "[87]\ttrain-auc:0.99988\ttest-auc:0.99965\n",
      "[88]\ttrain-auc:0.99988\ttest-auc:0.99963\n",
      "[89]\ttrain-auc:0.99989\ttest-auc:0.99957\n",
      "[90]\ttrain-auc:0.99989\ttest-auc:0.99962\n",
      "[91]\ttrain-auc:0.99989\ttest-auc:0.99962\n",
      "[92]\ttrain-auc:0.99990\ttest-auc:0.99961\n",
      "[93]\ttrain-auc:0.99990\ttest-auc:0.99960\n",
      "[94]\ttrain-auc:0.99990\ttest-auc:0.99957\n",
      "[95]\ttrain-auc:0.99990\ttest-auc:0.99956\n",
      "[96]\ttrain-auc:0.99990\ttest-auc:0.99958\n",
      "Stopping. Best iteration:\n",
      "[86]\ttrain-auc:0.99988\ttest-auc:0.99966\n",
      "\n"
     ]
    },
    {
     "data": {
      "text/plain": [
       "0.9995759954054155"
      ]
     },
     "execution_count": 17,
     "metadata": {},
     "output_type": "execute_result"
    }
   ],
   "source": [
    "dtrain = xgb.DMatrix(x_train, label=y_train)\n",
    "dtest = xgb.DMatrix(x_test, label=y_test)\n",
    "\n",
    "from sklearn.metrics import roc_auc_score,roc_curve,auc\n",
    "param = {'n_estimators': 500,\n",
    "         'max_depth': 4, \n",
    "         'min_child_weight': 3,\n",
    "         'gamma':0.3,\n",
    "         'subsample': 0.8,\n",
    "         'colsample_bytree': 0.8,  \n",
    "         'eta': 0.125,\n",
    "         'silent': 1, \n",
    "         'objective': 'binary:logistic',\n",
    "         'eval_metric':'auc',\n",
    "         'nthread':16\n",
    "        }\n",
    "evallist = [(dtrain, 'train'),(dtest,'test')]\n",
    "bst = xgb.train(param, dtrain, 500,evallist, early_stopping_rounds=10)\n",
    "\n",
    "\n",
    "##使用测试集，评估模型\n",
    "x_test_DMatrix = xgb.DMatrix(x_test)\n",
    "y_pred = bst.predict(x_test_DMatrix)\n",
    "\n",
    "## 调用ROC-AUC函数，计算其AUC值\n",
    "roc_auc_score(y_test,y_pred) "
   ]
  },
  {
   "cell_type": "code",
   "execution_count": 21,
   "id": "headed-general",
   "metadata": {},
   "outputs": [
    {
     "data": {
      "text/plain": [
       "Result\n",
       "1         1311294\n",
       "0             282\n",
       "dtype: int64"
      ]
     },
     "execution_count": 21,
     "metadata": {},
     "output_type": "execute_result"
    }
   ],
   "source": [
    "y_test.value_counts()"
   ]
  },
  {
   "cell_type": "code",
   "execution_count": 25,
   "id": "detected-probe",
   "metadata": {},
   "outputs": [
    {
     "data": {
      "text/plain": [
       "array([0.9999962 , 0.9999951 , 0.99999666, ..., 0.99999595, 0.9999969 ,\n",
       "       0.9999931 ], dtype=float32)"
      ]
     },
     "execution_count": 25,
     "metadata": {},
     "output_type": "execute_result"
    }
   ],
   "source": [
    "y_pred"
   ]
  },
  {
   "cell_type": "code",
   "execution_count": 27,
   "id": "comic-albany",
   "metadata": {},
   "outputs": [
    {
     "data": {
      "text/plain": [
       "<AxesSubplot:ylabel='Density'>"
      ]
     },
     "execution_count": 27,
     "metadata": {},
     "output_type": "execute_result"
    },
    {
     "data": {
      "image/png": "[encoded data removed]",
      "text/plain": [
       "<Figure size 432x288 with 1 Axes>"
      ]
     },
     "metadata": {
      "needs_background": "light"
     },
     "output_type": "display_data"
    }
   ],
   "source": [
    "sns.distplot(y_pred)"
   ]
  },
  {
   "cell_type": "code",
   "execution_count": 51,
   "id": "responsible-karaoke",
   "metadata": {},
   "outputs": [],
   "source": [
    "def pre_class(map_data):\n",
    "    if map_data>0.7:\n",
    "        return 1\n",
    "    else:\n",
    "        return 0"
   ]
  },
  {
   "cell_type": "code",
   "execution_count": 52,
   "id": "modern-python",
   "metadata": {},
   "outputs": [],
   "source": [
    "l=[]\n",
    "for i in y_pred:\n",
    "    l.append(pre_class(i))"
   ]
  },
  {
   "cell_type": "code",
   "execution_count": 53,
   "id": "superior-newspaper",
   "metadata": {},
   "outputs": [],
   "source": [
    "from sklearn.metrics import confusion_matrix\n",
    "classes = list(set(y_test))\n",
    "confusion = confusion_matrix(y_test,l) "
   ]
  },
  {
   "cell_type": "code",
   "execution_count": 54,
   "id": "decreased-offense",
   "metadata": {},
   "outputs": [
    {
     "data": {
      "text/plain": [
       "Text(33.0, 0.5, 'true')"
      ]
     },
     "execution_count": 54,
     "metadata": {},
     "output_type": "execute_result"
    },
    {
     "data": {
      "image/png": "[encoded data removed]",
      "text/plain": [
       "<Figure size 432x288 with 2 Axes>"
      ]
     },
     "metadata": {
      "needs_background": "light"
     },
     "output_type": "display_data"
    }
   ],
   "source": [
    "ax = sns.heatmap(pd.DataFrame(confusion),annot=True,fmt='.20g')\n",
    "ax.set_title('confusion matrix') #标题\n",
    "ax.set_xlabel('predict') #x轴\n",
    "ax.set_ylabel('true') #yconfusion"
   ]
  },
  {
   "cell_type": "code",
   "execution_count": 59,
   "id": "passing-radiation",
   "metadata": {},
   "outputs": [
    {
     "name": "stdout",
     "output_type": "stream",
     "text": [
      "              precision    recall  f1-score   support\n",
      "\n",
      "           0       0.63      0.84      0.72       282\n",
      "           1       1.00      1.00      1.00   1311294\n",
      "\n",
      "    accuracy                           1.00   1311576\n",
      "   macro avg       0.81      0.92      0.86   1311576\n",
      "weighted avg       1.00      1.00      1.00   1311576\n",
      "\n"
     ]
    }
   ],
   "source": [
    "from sklearn.metrics import classification_report\n",
    "print(classification_report(y_test,l))"
   ]
  },
  {
   "cell_type": "markdown",
   "id": "divine-reset",
   "metadata": {},
   "source": [
    "# 建立模型"
   ]
  },
  {
   "cell_type": "markdown",
   "id": "activated-quantity",
   "metadata": {},
   "source": [
    "使用不同的模型、查看模型的效果"
   ]
  },
  {
   "cell_type": "markdown",
   "id": "removed-problem",
   "metadata": {},
   "source": [
    "#### 1、逻辑回归"
   ]
  },
  {
   "cell_type": "code",
   "execution_count": 11,
   "id": "protective-gender",
   "metadata": {},
   "outputs": [
    {
     "data": {
      "text/html": [
       "<div>\n",
       "<style scoped>\n",
       "    .dataframe tbody tr th:only-of-type {\n",
       "        vertical-align: middle;\n",
       "    }\n",
       "\n",
       "    .dataframe tbody tr th {\n",
       "        vertical-align: top;\n",
       "    }\n",
       "\n",
       "    .dataframe thead th {\n",
       "        text-align: right;\n",
       "    }\n",
       "</style>\n",
       "<table border=\"1\" class=\"dataframe\">\n",
       "  <thead>\n",
       "    <tr style=\"text-align: right;\">\n",
       "      <th></th>\n",
       "      <th>Component ID</th>\n",
       "      <th>Volume(%)</th>\n",
       "      <th>Height(um)</th>\n",
       "      <th>Area(%)</th>\n",
       "      <th>OffsetX(mm)</th>\n",
       "      <th>OffsetY(mm)</th>\n",
       "      <th>Result</th>\n",
       "      <th>Panel</th>\n",
       "    </tr>\n",
       "  </thead>\n",
       "  <tbody>\n",
       "    <tr>\n",
       "      <th>0</th>\n",
       "      <td>1:C2</td>\n",
       "      <td>98.832</td>\n",
       "      <td>106.662</td>\n",
       "      <td>92.660</td>\n",
       "      <td>0.005</td>\n",
       "      <td>0.000</td>\n",
       "      <td>1</td>\n",
       "      <td>1.0</td>\n",
       "    </tr>\n",
       "    <tr>\n",
       "      <th>1</th>\n",
       "      <td>1:C2</td>\n",
       "      <td>95.402</td>\n",
       "      <td>100.189</td>\n",
       "      <td>95.222</td>\n",
       "      <td>0.000</td>\n",
       "      <td>0.000</td>\n",
       "      <td>1</td>\n",
       "      <td>1.0</td>\n",
       "    </tr>\n",
       "    <tr>\n",
       "      <th>2</th>\n",
       "      <td>1:C10</td>\n",
       "      <td>103.047</td>\n",
       "      <td>111.748</td>\n",
       "      <td>92.214</td>\n",
       "      <td>-0.011</td>\n",
       "      <td>0.007</td>\n",
       "      <td>1</td>\n",
       "      <td>1.0</td>\n",
       "    </tr>\n",
       "    <tr>\n",
       "      <th>3</th>\n",
       "      <td>1:C10</td>\n",
       "      <td>105.500</td>\n",
       "      <td>117.418</td>\n",
       "      <td>89.850</td>\n",
       "      <td>0.000</td>\n",
       "      <td>0.007</td>\n",
       "      <td>1</td>\n",
       "      <td>1.0</td>\n",
       "    </tr>\n",
       "    <tr>\n",
       "      <th>4</th>\n",
       "      <td>1:C11</td>\n",
       "      <td>103.741</td>\n",
       "      <td>117.714</td>\n",
       "      <td>88.129</td>\n",
       "      <td>-0.008</td>\n",
       "      <td>-0.006</td>\n",
       "      <td>1</td>\n",
       "      <td>1.0</td>\n",
       "    </tr>\n",
       "  </tbody>\n",
       "</table>\n",
       "</div>"
      ],
      "text/plain": [
       "  Component ID  Volume(%)  Height(um)  Area(%)  OffsetX(mm)  OffsetY(mm)  \\\n",
       "0         1:C2     98.832     106.662   92.660        0.005        0.000   \n",
       "1         1:C2     95.402     100.189   95.222        0.000        0.000   \n",
       "2        1:C10    103.047     111.748   92.214       -0.011        0.007   \n",
       "3        1:C10    105.500     117.418   89.850        0.000        0.007   \n",
       "4        1:C11    103.741     117.714   88.129       -0.008       -0.006   \n",
       "\n",
       "   Result  Panel  \n",
       "0       1    1.0  \n",
       "1       1    1.0  \n",
       "2       1    1.0  \n",
       "3       1    1.0  \n",
       "4       1    1.0  "
      ]
     },
     "execution_count": 11,
     "metadata": {},
     "output_type": "execute_result"
    }
   ],
   "source": [
    "B_data.head()"
   ]
  },
  {
   "cell_type": "code",
   "execution_count": 10,
   "id": "lesser-forest",
   "metadata": {},
   "outputs": [
    {
     "data": {
      "text/plain": [
       "Component ID\n",
       "1:D6     2377620\n",
       "1:D5     2237760\n",
       "1:D8      186480\n",
       "1:D9      124320\n",
       "1:D4       77700\n",
       "1:Q2       62160\n",
       "1:VT4      46620\n",
       "1:VT3      46620\n",
       "1:R46      31080\n",
       "1:R45      31080\n",
       "1:R30      31080\n",
       "1:R31      31080\n",
       "1:R32      31080\n",
       "1:R33      31080\n",
       "1:R34      31080\n",
       "1:R35      31080\n",
       "1:R36      31080\n",
       "1:R4       31080\n",
       "1:R40      31080\n",
       "1:VD7      31080\n",
       "1:R50      31080\n",
       "1:R49      31080\n",
       "1:R28      31080\n",
       "1:R48      31080\n",
       "1:R41      31080\n",
       "1:R42      31080\n",
       "1:R43      31080\n",
       "1:R44      31080\n",
       "1:R29      31080\n",
       "1:C10      31080\n",
       "1:R27      31080\n",
       "1:C55      31080\n",
       "1:C12      31080\n",
       "1:C13      31080\n",
       "1:C18      31080\n",
       "1:C2       31080\n",
       "1:C20      31080\n",
       "1:C25      31080\n",
       "1:C43      31080\n",
       "1:C50      31080\n",
       "1:C51      31080\n",
       "1:C56      31080\n",
       "1:R26      31080\n",
       "1:L7       31080\n",
       "1:Q1       31080\n",
       "1:R14      31080\n",
       "1:R15      31080\n",
       "1:R16      31080\n",
       "1:R18      31080\n",
       "1:R2       31080\n",
       "1:C11      31080\n",
       "1:R25      31080\n",
       "1:R24      31080\n",
       "dtype: int64"
      ]
     },
     "execution_count": 10,
     "metadata": {},
     "output_type": "execute_result"
    }
   ],
   "source": [
    "B_data.value_counts(\"Component ID\")"
   ]
  },
  {
   "cell_type": "code",
   "execution_count": 10,
   "id": "ancient-shelf",
   "metadata": {},
   "outputs": [
    {
     "ename": "TypeError",
     "evalue": "fit_transform() missing 1 required positional argument: 'X'",
     "output_type": "error",
     "traceback": [
      "\u001b[1;31m---------------------------------------------------------------------------\u001b[0m",
      "\u001b[1;31mTypeError\u001b[0m                                 Traceback (most recent call last)",
      "\u001b[1;32m<ipython-input-10-befb03cb482a>\u001b[0m in \u001b[0;36m<module>\u001b[1;34m\u001b[0m\n\u001b[0;32m      3\u001b[0m \u001b[1;33m\u001b[0m\u001b[0m\n\u001b[0;32m      4\u001b[0m \u001b[0mstdScaler\u001b[0m\u001b[1;33m=\u001b[0m\u001b[0mStandardScaler\u001b[0m\u001b[1;33m(\u001b[0m\u001b[1;33m)\u001b[0m\u001b[1;33m\u001b[0m\u001b[1;33m\u001b[0m\u001b[0m\n\u001b[1;32m----> 5\u001b[1;33m \u001b[0mX\u001b[0m\u001b[1;33m=\u001b[0m\u001b[0mstdScaler\u001b[0m\u001b[1;33m.\u001b[0m\u001b[0mfit_transform\u001b[0m\u001b[1;33m(\u001b[0m\u001b[1;33m)\u001b[0m\u001b[1;33m\u001b[0m\u001b[1;33m\u001b[0m\u001b[0m\n\u001b[0m",
      "\u001b[1;31mTypeError\u001b[0m: fit_transform() missing 1 required positional argument: 'X'"
     ]
    }
   ],
   "source": [
    "from sklearn.linear_model import LogisticRegression\n",
    "from sklearn.preprocessing import StandardScaler\n",
    "\n",
    "stdScaler=StandardScaler()\n",
    "X=stdScaler.fit_transform()"
   ]
  },
  {
   "cell_type": "code",
   "execution_count": null,
   "id": "excited-directive",
   "metadata": {},
   "outputs": [],
   "source": []
  }
 ],
 "metadata": {
  "kernelspec": {
   "display_name": "Python 3",
   "language": "python",
   "name": "python3"
  },
  "language_info": {
   "codemirror_mode": {
    "name": "ipython",
    "version": 3
   },
   "file_extension": ".py",
   "mimetype": "text/x-python",
   "name": "python",
   "nbconvert_exporter": "python",
   "pygments_lexer": "ipython3",
   "version": "3.7.4"
  }
 },
 "nbformat": 4,
 "nbformat_minor": 5
}
