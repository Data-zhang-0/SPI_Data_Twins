{
 "cells": [
  {
   "cell_type": "code",
   "execution_count": 1,
   "id": "discrete-stupid",
   "metadata": {},
   "outputs": [],
   "source": [
    "# 导入相应的包\n",
    "import pandas as pd\n",
    "import os\n",
    "import math      \n",
    "import numpy as np\n",
    "from tqdm import tqdm\n",
    "import matplotlib.pyplot as plt \n",
    "import time\n",
    "from scipy import stats\n",
    "import warnings \n",
    "import seaborn as sns \n",
    "warnings.filterwarnings('ignore') "
   ]
  },
  {
   "cell_type": "code",
   "execution_count": 3,
   "id": "organic-humanitarian",
   "metadata": {},
   "outputs": [],
   "source": [
    "B_data=pd.read_csv(\"../../dataSet/B_data_time.csv\")\n",
    "T_data=pd.read_csv(\"../../dataSet/T_data_time.csv\")"
   ]
  },
  {
   "cell_type": "code",
   "execution_count": 4,
   "id": "recreational-notification",
   "metadata": {},
   "outputs": [
    {
     "data": {
      "text/plain": [
       "(6557880, 18)"
      ]
     },
     "execution_count": 4,
     "metadata": {},
     "output_type": "execute_result"
    }
   ],
   "source": [
    "B_data.shape"
   ]
  },
  {
   "cell_type": "code",
   "execution_count": 8,
   "id": "plain-monkey",
   "metadata": {},
   "outputs": [
    {
     "data": {
      "text/html": [
       "<div>\n",
       "<style scoped>\n",
       "    .dataframe tbody tr th:only-of-type {\n",
       "        vertical-align: middle;\n",
       "    }\n",
       "\n",
       "    .dataframe tbody tr th {\n",
       "        vertical-align: top;\n",
       "    }\n",
       "\n",
       "    .dataframe thead th {\n",
       "        text-align: right;\n",
       "    }\n",
       "</style>\n",
       "<table border=\"1\" class=\"dataframe\">\n",
       "  <thead>\n",
       "    <tr style=\"text-align: right;\">\n",
       "      <th></th>\n",
       "      <th>Component ID</th>\n",
       "      <th>Volume(%)</th>\n",
       "      <th>Height(um)</th>\n",
       "      <th>Area(%)</th>\n",
       "      <th>OffsetX(mm)</th>\n",
       "      <th>OffsetY(mm)</th>\n",
       "      <th>Result</th>\n",
       "      <th>Panel</th>\n",
       "      <th>Image</th>\n",
       "      <th>DATE</th>\n",
       "      <th>JOBRESULT</th>\n",
       "      <th>ana1</th>\n",
       "      <th>ana2</th>\n",
       "      <th>MACHINE</th>\n",
       "      <th>SIZE</th>\n",
       "      <th>CYCLE</th>\n",
       "      <th>JOB</th>\n",
       "      <th>BARCODE_INDEX</th>\n",
       "      <th>S_TIME</th>\n",
       "      <th>E.TIME</th>\n",
       "    </tr>\n",
       "  </thead>\n",
       "  <tbody>\n",
       "    <tr>\n",
       "      <th>0</th>\n",
       "      <td>1:C1</td>\n",
       "      <td>109.000</td>\n",
       "      <td>110.091</td>\n",
       "      <td>99.008</td>\n",
       "      <td>-0.002</td>\n",
       "      <td>0.005</td>\n",
       "      <td>GOOD</td>\n",
       "      <td>1.0</td>\n",
       "      <td>14063 2021/8/10   14:15:13  14:15:19'</td>\n",
       "      <td>2021/8/10</td>\n",
       "      <td>PASS</td>\n",
       "      <td>KohYoung</td>\n",
       "      <td>''</td>\n",
       "      <td>KOHYOUNG</td>\n",
       "      <td>T</td>\n",
       "      <td>6</td>\n",
       "      <td>GT30-V2.8-00-TOP-10</td>\n",
       "      <td>14063</td>\n",
       "      <td>14:15:13</td>\n",
       "      <td>14:15:19</td>\n",
       "    </tr>\n",
       "    <tr>\n",
       "      <th>1</th>\n",
       "      <td>1:C1</td>\n",
       "      <td>104.116</td>\n",
       "      <td>116.925</td>\n",
       "      <td>89.045</td>\n",
       "      <td>-0.006</td>\n",
       "      <td>0.005</td>\n",
       "      <td>GOOD</td>\n",
       "      <td>1.0</td>\n",
       "      <td>14063 2021/8/10   14:15:13  14:15:19'</td>\n",
       "      <td>2021/8/10</td>\n",
       "      <td>PASS</td>\n",
       "      <td>KohYoung</td>\n",
       "      <td>''</td>\n",
       "      <td>KOHYOUNG</td>\n",
       "      <td>T</td>\n",
       "      <td>6</td>\n",
       "      <td>GT30-V2.8-00-TOP-10</td>\n",
       "      <td>14063</td>\n",
       "      <td>14:15:13</td>\n",
       "      <td>14:15:19</td>\n",
       "    </tr>\n",
       "    <tr>\n",
       "      <th>2</th>\n",
       "      <td>1:C3</td>\n",
       "      <td>109.883</td>\n",
       "      <td>115.214</td>\n",
       "      <td>95.373</td>\n",
       "      <td>0.003</td>\n",
       "      <td>0.001</td>\n",
       "      <td>GOOD</td>\n",
       "      <td>1.0</td>\n",
       "      <td>14063 2021/8/10   14:15:13  14:15:19'</td>\n",
       "      <td>2021/8/10</td>\n",
       "      <td>PASS</td>\n",
       "      <td>KohYoung</td>\n",
       "      <td>''</td>\n",
       "      <td>KOHYOUNG</td>\n",
       "      <td>T</td>\n",
       "      <td>6</td>\n",
       "      <td>GT30-V2.8-00-TOP-10</td>\n",
       "      <td>14063</td>\n",
       "      <td>14:15:13</td>\n",
       "      <td>14:15:19</td>\n",
       "    </tr>\n",
       "    <tr>\n",
       "      <th>3</th>\n",
       "      <td>1:C3</td>\n",
       "      <td>114.777</td>\n",
       "      <td>119.189</td>\n",
       "      <td>96.298</td>\n",
       "      <td>0.003</td>\n",
       "      <td>0.006</td>\n",
       "      <td>GOOD</td>\n",
       "      <td>1.0</td>\n",
       "      <td>14063 2021/8/10   14:15:13  14:15:19'</td>\n",
       "      <td>2021/8/10</td>\n",
       "      <td>PASS</td>\n",
       "      <td>KohYoung</td>\n",
       "      <td>''</td>\n",
       "      <td>KOHYOUNG</td>\n",
       "      <td>T</td>\n",
       "      <td>6</td>\n",
       "      <td>GT30-V2.8-00-TOP-10</td>\n",
       "      <td>14063</td>\n",
       "      <td>14:15:13</td>\n",
       "      <td>14:15:19</td>\n",
       "    </tr>\n",
       "    <tr>\n",
       "      <th>4</th>\n",
       "      <td>1:C4</td>\n",
       "      <td>114.009</td>\n",
       "      <td>115.141</td>\n",
       "      <td>99.017</td>\n",
       "      <td>-0.010</td>\n",
       "      <td>0.014</td>\n",
       "      <td>GOOD</td>\n",
       "      <td>1.0</td>\n",
       "      <td>14063 2021/8/10   14:15:13  14:15:19'</td>\n",
       "      <td>2021/8/10</td>\n",
       "      <td>PASS</td>\n",
       "      <td>KohYoung</td>\n",
       "      <td>''</td>\n",
       "      <td>KOHYOUNG</td>\n",
       "      <td>T</td>\n",
       "      <td>6</td>\n",
       "      <td>GT30-V2.8-00-TOP-10</td>\n",
       "      <td>14063</td>\n",
       "      <td>14:15:13</td>\n",
       "      <td>14:15:19</td>\n",
       "    </tr>\n",
       "    <tr>\n",
       "      <th>...</th>\n",
       "      <td>...</td>\n",
       "      <td>...</td>\n",
       "      <td>...</td>\n",
       "      <td>...</td>\n",
       "      <td>...</td>\n",
       "      <td>...</td>\n",
       "      <td>...</td>\n",
       "      <td>...</td>\n",
       "      <td>...</td>\n",
       "      <td>...</td>\n",
       "      <td>...</td>\n",
       "      <td>...</td>\n",
       "      <td>...</td>\n",
       "      <td>...</td>\n",
       "      <td>...</td>\n",
       "      <td>...</td>\n",
       "      <td>...</td>\n",
       "      <td>...</td>\n",
       "      <td>...</td>\n",
       "      <td>...</td>\n",
       "    </tr>\n",
       "    <tr>\n",
       "      <th>8297435</th>\n",
       "      <td>1:X1</td>\n",
       "      <td>100.701</td>\n",
       "      <td>118.078</td>\n",
       "      <td>110.869</td>\n",
       "      <td>0.007</td>\n",
       "      <td>-0.009</td>\n",
       "      <td>GOOD</td>\n",
       "      <td>1.0</td>\n",
       "      <td>44652 2021/8/27   23:59:14  23:59:19'</td>\n",
       "      <td>2021/8/27</td>\n",
       "      <td>GOOD</td>\n",
       "      <td>KohYoung</td>\n",
       "      <td>''</td>\n",
       "      <td>KOHYOUNG</td>\n",
       "      <td>T</td>\n",
       "      <td>5</td>\n",
       "      <td>GT30-V2.8-00-TOP-10</td>\n",
       "      <td>44652</td>\n",
       "      <td>23:59:14</td>\n",
       "      <td>23:59:19</td>\n",
       "    </tr>\n",
       "    <tr>\n",
       "      <th>8297436</th>\n",
       "      <td>1:X1</td>\n",
       "      <td>109.346</td>\n",
       "      <td>126.694</td>\n",
       "      <td>112.199</td>\n",
       "      <td>0.006</td>\n",
       "      <td>0.001</td>\n",
       "      <td>GOOD</td>\n",
       "      <td>1.0</td>\n",
       "      <td>44652 2021/8/27   23:59:14  23:59:19'</td>\n",
       "      <td>2021/8/27</td>\n",
       "      <td>GOOD</td>\n",
       "      <td>KohYoung</td>\n",
       "      <td>''</td>\n",
       "      <td>KOHYOUNG</td>\n",
       "      <td>T</td>\n",
       "      <td>5</td>\n",
       "      <td>GT30-V2.8-00-TOP-10</td>\n",
       "      <td>44652</td>\n",
       "      <td>23:59:14</td>\n",
       "      <td>23:59:19</td>\n",
       "    </tr>\n",
       "    <tr>\n",
       "      <th>8297437</th>\n",
       "      <td>1:X1</td>\n",
       "      <td>109.792</td>\n",
       "      <td>130.359</td>\n",
       "      <td>109.489</td>\n",
       "      <td>0.002</td>\n",
       "      <td>-0.008</td>\n",
       "      <td>GOOD</td>\n",
       "      <td>1.0</td>\n",
       "      <td>44652 2021/8/27   23:59:14  23:59:19'</td>\n",
       "      <td>2021/8/27</td>\n",
       "      <td>GOOD</td>\n",
       "      <td>KohYoung</td>\n",
       "      <td>''</td>\n",
       "      <td>KOHYOUNG</td>\n",
       "      <td>T</td>\n",
       "      <td>5</td>\n",
       "      <td>GT30-V2.8-00-TOP-10</td>\n",
       "      <td>44652</td>\n",
       "      <td>23:59:14</td>\n",
       "      <td>23:59:19</td>\n",
       "    </tr>\n",
       "    <tr>\n",
       "      <th>8297438</th>\n",
       "      <td>1:X1</td>\n",
       "      <td>107.749</td>\n",
       "      <td>126.283</td>\n",
       "      <td>110.921</td>\n",
       "      <td>0.007</td>\n",
       "      <td>0.003</td>\n",
       "      <td>GOOD</td>\n",
       "      <td>1.0</td>\n",
       "      <td>44652 2021/8/27   23:59:14  23:59:19'</td>\n",
       "      <td>2021/8/27</td>\n",
       "      <td>GOOD</td>\n",
       "      <td>KohYoung</td>\n",
       "      <td>''</td>\n",
       "      <td>KOHYOUNG</td>\n",
       "      <td>T</td>\n",
       "      <td>5</td>\n",
       "      <td>GT30-V2.8-00-TOP-10</td>\n",
       "      <td>44652</td>\n",
       "      <td>23:59:14</td>\n",
       "      <td>23:59:19</td>\n",
       "    </tr>\n",
       "    <tr>\n",
       "      <th>8297439</th>\n",
       "      <td>1:X1</td>\n",
       "      <td>106.305</td>\n",
       "      <td>125.536</td>\n",
       "      <td>110.085</td>\n",
       "      <td>0.006</td>\n",
       "      <td>0.000</td>\n",
       "      <td>GOOD</td>\n",
       "      <td>1.0</td>\n",
       "      <td>44652 2021/8/27   23:59:14  23:59:19'</td>\n",
       "      <td>2021/8/27</td>\n",
       "      <td>GOOD</td>\n",
       "      <td>KohYoung</td>\n",
       "      <td>''</td>\n",
       "      <td>KOHYOUNG</td>\n",
       "      <td>T</td>\n",
       "      <td>5</td>\n",
       "      <td>GT30-V2.8-00-TOP-10</td>\n",
       "      <td>44652</td>\n",
       "      <td>23:59:14</td>\n",
       "      <td>23:59:19</td>\n",
       "    </tr>\n",
       "  </tbody>\n",
       "</table>\n",
       "<p>8297440 rows × 20 columns</p>\n",
       "</div>"
      ],
      "text/plain": [
       "        Component ID  Volume(%)  Height(um)  Area(%)  OffsetX(mm)  \\\n",
       "0               1:C1    109.000     110.091   99.008       -0.002   \n",
       "1               1:C1    104.116     116.925   89.045       -0.006   \n",
       "2               1:C3    109.883     115.214   95.373        0.003   \n",
       "3               1:C3    114.777     119.189   96.298        0.003   \n",
       "4               1:C4    114.009     115.141   99.017       -0.010   \n",
       "...              ...        ...         ...      ...          ...   \n",
       "8297435         1:X1    100.701     118.078  110.869        0.007   \n",
       "8297436         1:X1    109.346     126.694  112.199        0.006   \n",
       "8297437         1:X1    109.792     130.359  109.489        0.002   \n",
       "8297438         1:X1    107.749     126.283  110.921        0.007   \n",
       "8297439         1:X1    106.305     125.536  110.085        0.006   \n",
       "\n",
       "         OffsetY(mm) Result  Panel                                    Image  \\\n",
       "0              0.005   GOOD    1.0    14063 2021/8/10   14:15:13  14:15:19'   \n",
       "1              0.005   GOOD    1.0    14063 2021/8/10   14:15:13  14:15:19'   \n",
       "2              0.001   GOOD    1.0    14063 2021/8/10   14:15:13  14:15:19'   \n",
       "3              0.006   GOOD    1.0    14063 2021/8/10   14:15:13  14:15:19'   \n",
       "4              0.014   GOOD    1.0    14063 2021/8/10   14:15:13  14:15:19'   \n",
       "...              ...    ...    ...                                      ...   \n",
       "8297435       -0.009   GOOD    1.0    44652 2021/8/27   23:59:14  23:59:19'   \n",
       "8297436        0.001   GOOD    1.0    44652 2021/8/27   23:59:14  23:59:19'   \n",
       "8297437       -0.008   GOOD    1.0    44652 2021/8/27   23:59:14  23:59:19'   \n",
       "8297438        0.003   GOOD    1.0    44652 2021/8/27   23:59:14  23:59:19'   \n",
       "8297439        0.000   GOOD    1.0    44652 2021/8/27   23:59:14  23:59:19'   \n",
       "\n",
       "              DATE JOBRESULT       ana1 ana2   MACHINE SIZE  CYCLE  \\\n",
       "0        2021/8/10      PASS   KohYoung   ''  KOHYOUNG    T      6   \n",
       "1        2021/8/10      PASS   KohYoung   ''  KOHYOUNG    T      6   \n",
       "2        2021/8/10      PASS   KohYoung   ''  KOHYOUNG    T      6   \n",
       "3        2021/8/10      PASS   KohYoung   ''  KOHYOUNG    T      6   \n",
       "4        2021/8/10      PASS   KohYoung   ''  KOHYOUNG    T      6   \n",
       "...            ...       ...        ...  ...       ...  ...    ...   \n",
       "8297435  2021/8/27      GOOD   KohYoung   ''  KOHYOUNG    T      5   \n",
       "8297436  2021/8/27      GOOD   KohYoung   ''  KOHYOUNG    T      5   \n",
       "8297437  2021/8/27      GOOD   KohYoung   ''  KOHYOUNG    T      5   \n",
       "8297438  2021/8/27      GOOD   KohYoung   ''  KOHYOUNG    T      5   \n",
       "8297439  2021/8/27      GOOD   KohYoung   ''  KOHYOUNG    T      5   \n",
       "\n",
       "                         JOB  BARCODE_INDEX    S_TIME    E.TIME  \n",
       "0        GT30-V2.8-00-TOP-10          14063  14:15:13  14:15:19  \n",
       "1        GT30-V2.8-00-TOP-10          14063  14:15:13  14:15:19  \n",
       "2        GT30-V2.8-00-TOP-10          14063  14:15:13  14:15:19  \n",
       "3        GT30-V2.8-00-TOP-10          14063  14:15:13  14:15:19  \n",
       "4        GT30-V2.8-00-TOP-10          14063  14:15:13  14:15:19  \n",
       "...                      ...            ...       ...       ...  \n",
       "8297435  GT30-V2.8-00-TOP-10          44652  23:59:14  23:59:19  \n",
       "8297436  GT30-V2.8-00-TOP-10          44652  23:59:14  23:59:19  \n",
       "8297437  GT30-V2.8-00-TOP-10          44652  23:59:14  23:59:19  \n",
       "8297438  GT30-V2.8-00-TOP-10          44652  23:59:14  23:59:19  \n",
       "8297439  GT30-V2.8-00-TOP-10          44652  23:59:14  23:59:19  \n",
       "\n",
       "[8297440 rows x 20 columns]"
      ]
     },
     "execution_count": 8,
     "metadata": {},
     "output_type": "execute_result"
    }
   ],
   "source": [
    "T_data"
   ]
  },
  {
   "cell_type": "code",
   "execution_count": 4,
   "id": "indie-farming",
   "metadata": {},
   "outputs": [
    {
     "data": {
      "text/plain": [
       "JOB\n",
       "GT30-V2.8-00-BOT-10    6557880\n",
       "dtype: int64"
      ]
     },
     "execution_count": 4,
     "metadata": {},
     "output_type": "execute_result"
    }
   ],
   "source": [
    "B_data.value_counts(\"JOB\")"
   ]
  },
  {
   "cell_type": "code",
   "execution_count": 11,
   "id": "failing-relay",
   "metadata": {},
   "outputs": [
    {
     "data": {
      "text/html": [
       "<div>\n",
       "<style scoped>\n",
       "    .dataframe tbody tr th:only-of-type {\n",
       "        vertical-align: middle;\n",
       "    }\n",
       "\n",
       "    .dataframe tbody tr th {\n",
       "        vertical-align: top;\n",
       "    }\n",
       "\n",
       "    .dataframe thead th {\n",
       "        text-align: right;\n",
       "    }\n",
       "</style>\n",
       "<table border=\"1\" class=\"dataframe\">\n",
       "  <thead>\n",
       "    <tr style=\"text-align: right;\">\n",
       "      <th></th>\n",
       "      <th>Component ID</th>\n",
       "      <th>Volume(%)</th>\n",
       "      <th>Height(um)</th>\n",
       "      <th>Area(%)</th>\n",
       "      <th>OffsetX(mm)</th>\n",
       "      <th>OffsetY(mm)</th>\n",
       "      <th>Result</th>\n",
       "      <th>Panel</th>\n",
       "      <th>DATE</th>\n",
       "      <th>JOBRESULT</th>\n",
       "      <th>USER LOTINFO</th>\n",
       "      <th>MACHINE</th>\n",
       "      <th>SIZE</th>\n",
       "      <th>CYCLE</th>\n",
       "      <th>JOB</th>\n",
       "      <th>BARCODE_INDEX</th>\n",
       "      <th>S_TIME</th>\n",
       "      <th>E.TIME</th>\n",
       "    </tr>\n",
       "  </thead>\n",
       "  <tbody>\n",
       "    <tr>\n",
       "      <th>0</th>\n",
       "      <td>1:C2</td>\n",
       "      <td>98.832</td>\n",
       "      <td>106.662</td>\n",
       "      <td>92.660</td>\n",
       "      <td>0.005</td>\n",
       "      <td>0.000</td>\n",
       "      <td>GOOD</td>\n",
       "      <td>1</td>\n",
       "      <td>2021/8/10</td>\n",
       "      <td>PASS</td>\n",
       "      <td>KohYoung</td>\n",
       "      <td>KOHYOUNG</td>\n",
       "      <td>T</td>\n",
       "      <td>6</td>\n",
       "      <td>GT30-V2.8-00-BOT-10</td>\n",
       "      <td>13611</td>\n",
       "      <td>05:46:14</td>\n",
       "      <td>05:46:20</td>\n",
       "    </tr>\n",
       "    <tr>\n",
       "      <th>1</th>\n",
       "      <td>1:C2</td>\n",
       "      <td>95.402</td>\n",
       "      <td>100.189</td>\n",
       "      <td>95.222</td>\n",
       "      <td>0.000</td>\n",
       "      <td>0.000</td>\n",
       "      <td>GOOD</td>\n",
       "      <td>1</td>\n",
       "      <td>2021/8/10</td>\n",
       "      <td>PASS</td>\n",
       "      <td>KohYoung</td>\n",
       "      <td>KOHYOUNG</td>\n",
       "      <td>T</td>\n",
       "      <td>6</td>\n",
       "      <td>GT30-V2.8-00-BOT-10</td>\n",
       "      <td>13611</td>\n",
       "      <td>05:46:14</td>\n",
       "      <td>05:46:20</td>\n",
       "    </tr>\n",
       "    <tr>\n",
       "      <th>2</th>\n",
       "      <td>1:C10</td>\n",
       "      <td>103.047</td>\n",
       "      <td>111.748</td>\n",
       "      <td>92.214</td>\n",
       "      <td>-0.011</td>\n",
       "      <td>0.007</td>\n",
       "      <td>GOOD</td>\n",
       "      <td>1</td>\n",
       "      <td>2021/8/10</td>\n",
       "      <td>PASS</td>\n",
       "      <td>KohYoung</td>\n",
       "      <td>KOHYOUNG</td>\n",
       "      <td>T</td>\n",
       "      <td>6</td>\n",
       "      <td>GT30-V2.8-00-BOT-10</td>\n",
       "      <td>13611</td>\n",
       "      <td>05:46:14</td>\n",
       "      <td>05:46:20</td>\n",
       "    </tr>\n",
       "    <tr>\n",
       "      <th>3</th>\n",
       "      <td>1:C10</td>\n",
       "      <td>105.500</td>\n",
       "      <td>117.418</td>\n",
       "      <td>89.850</td>\n",
       "      <td>0.000</td>\n",
       "      <td>0.007</td>\n",
       "      <td>GOOD</td>\n",
       "      <td>1</td>\n",
       "      <td>2021/8/10</td>\n",
       "      <td>PASS</td>\n",
       "      <td>KohYoung</td>\n",
       "      <td>KOHYOUNG</td>\n",
       "      <td>T</td>\n",
       "      <td>6</td>\n",
       "      <td>GT30-V2.8-00-BOT-10</td>\n",
       "      <td>13611</td>\n",
       "      <td>05:46:14</td>\n",
       "      <td>05:46:20</td>\n",
       "    </tr>\n",
       "    <tr>\n",
       "      <th>4</th>\n",
       "      <td>1:C11</td>\n",
       "      <td>103.741</td>\n",
       "      <td>117.714</td>\n",
       "      <td>88.129</td>\n",
       "      <td>-0.008</td>\n",
       "      <td>-0.006</td>\n",
       "      <td>GOOD</td>\n",
       "      <td>1</td>\n",
       "      <td>2021/8/10</td>\n",
       "      <td>PASS</td>\n",
       "      <td>KohYoung</td>\n",
       "      <td>KOHYOUNG</td>\n",
       "      <td>T</td>\n",
       "      <td>6</td>\n",
       "      <td>GT30-V2.8-00-BOT-10</td>\n",
       "      <td>13611</td>\n",
       "      <td>05:46:14</td>\n",
       "      <td>05:46:20</td>\n",
       "    </tr>\n",
       "  </tbody>\n",
       "</table>\n",
       "</div>"
      ],
      "text/plain": [
       "  Component ID  Volume(%)  Height(um)  Area(%)  OffsetX(mm)  OffsetY(mm)  \\\n",
       "0         1:C2     98.832     106.662   92.660        0.005        0.000   \n",
       "1         1:C2     95.402     100.189   95.222        0.000        0.000   \n",
       "2        1:C10    103.047     111.748   92.214       -0.011        0.007   \n",
       "3        1:C10    105.500     117.418   89.850        0.000        0.007   \n",
       "4        1:C11    103.741     117.714   88.129       -0.008       -0.006   \n",
       "\n",
       "  Result  Panel       DATE JOBRESULT USER LOTINFO   MACHINE SIZE  CYCLE  \\\n",
       "0   GOOD      1  2021/8/10      PASS     KohYoung  KOHYOUNG    T      6   \n",
       "1   GOOD      1  2021/8/10      PASS     KohYoung  KOHYOUNG    T      6   \n",
       "2   GOOD      1  2021/8/10      PASS     KohYoung  KOHYOUNG    T      6   \n",
       "3   GOOD      1  2021/8/10      PASS     KohYoung  KOHYOUNG    T      6   \n",
       "4   GOOD      1  2021/8/10      PASS     KohYoung  KOHYOUNG    T      6   \n",
       "\n",
       "                   JOB  BARCODE_INDEX    S_TIME    E.TIME  \n",
       "0  GT30-V2.8-00-BOT-10          13611  05:46:14  05:46:20  \n",
       "1  GT30-V2.8-00-BOT-10          13611  05:46:14  05:46:20  \n",
       "2  GT30-V2.8-00-BOT-10          13611  05:46:14  05:46:20  \n",
       "3  GT30-V2.8-00-BOT-10          13611  05:46:14  05:46:20  \n",
       "4  GT30-V2.8-00-BOT-10          13611  05:46:14  05:46:20  "
      ]
     },
     "execution_count": 11,
     "metadata": {},
     "output_type": "execute_result"
    }
   ],
   "source": [
    "B_data.head()"
   ]
  },
  {
   "cell_type": "code",
   "execution_count": 5,
   "id": "hairy-tattoo",
   "metadata": {},
   "outputs": [],
   "source": [
    "lables=[\"Volume(%)\",\"Height(um)\",\"Area(%)\" , \"OffsetX(mm)\" ,\"OffsetY(mm)\"]"
   ]
  },
  {
   "cell_type": "markdown",
   "id": "cardiovascular-fence",
   "metadata": {},
   "source": [
    "## 根据B样本数据先建立少锡样本分析"
   ]
  },
  {
   "cell_type": "code",
   "execution_count": null,
   "id": "radio-french",
   "metadata": {},
   "outputs": [],
   "source": []
  },
  {
   "cell_type": "code",
   "execution_count": null,
   "id": "packed-violence",
   "metadata": {},
   "outputs": [],
   "source": []
  },
  {
   "cell_type": "code",
   "execution_count": null,
   "id": "rising-duncan",
   "metadata": {},
   "outputs": [],
   "source": []
  },
  {
   "cell_type": "markdown",
   "id": "young-evans",
   "metadata": {},
   "source": [
    "## 建立整体模型策略"
   ]
  },
  {
   "cell_type": "markdown",
   "id": "loose-placement",
   "metadata": {},
   "source": [
    "### 分类模型处理"
   ]
  },
  {
   "cell_type": "code",
   "execution_count": 6,
   "id": "aquatic-joint",
   "metadata": {},
   "outputs": [],
   "source": [
    "X1=B_data[lables]"
   ]
  },
  {
   "cell_type": "code",
   "execution_count": 7,
   "id": "elect-luther",
   "metadata": {},
   "outputs": [],
   "source": [
    "Y=B_data[\"Result\"].apply(lambda x:1 if x==\"GOOD\" else 0)"
   ]
  },
  {
   "cell_type": "markdown",
   "id": "joined-shark",
   "metadata": {},
   "source": [
    "## 转换成T样本集合数据"
   ]
  },
  {
   "cell_type": "code",
   "execution_count": 9,
   "id": "israeli-witch",
   "metadata": {},
   "outputs": [],
   "source": [
    "T_data=T_data[T_data[\"JOB\"]==\"GT30-V2.8-00-TOP-10\"]"
   ]
  },
  {
   "cell_type": "code",
   "execution_count": 10,
   "id": "electronic-treatment",
   "metadata": {},
   "outputs": [
    {
     "data": {
      "text/html": [
       "<div>\n",
       "<style scoped>\n",
       "    .dataframe tbody tr th:only-of-type {\n",
       "        vertical-align: middle;\n",
       "    }\n",
       "\n",
       "    .dataframe tbody tr th {\n",
       "        vertical-align: top;\n",
       "    }\n",
       "\n",
       "    .dataframe thead th {\n",
       "        text-align: right;\n",
       "    }\n",
       "</style>\n",
       "<table border=\"1\" class=\"dataframe\">\n",
       "  <thead>\n",
       "    <tr style=\"text-align: right;\">\n",
       "      <th></th>\n",
       "      <th>Component ID</th>\n",
       "      <th>Volume(%)</th>\n",
       "      <th>Height(um)</th>\n",
       "      <th>Area(%)</th>\n",
       "      <th>OffsetX(mm)</th>\n",
       "      <th>OffsetY(mm)</th>\n",
       "      <th>Result</th>\n",
       "      <th>Panel</th>\n",
       "      <th>Image</th>\n",
       "      <th>DATE</th>\n",
       "      <th>JOBRESULT</th>\n",
       "      <th>ana1</th>\n",
       "      <th>ana2</th>\n",
       "      <th>MACHINE</th>\n",
       "      <th>SIZE</th>\n",
       "      <th>CYCLE</th>\n",
       "      <th>JOB</th>\n",
       "      <th>BARCODE_INDEX</th>\n",
       "      <th>S_TIME</th>\n",
       "      <th>E.TIME</th>\n",
       "    </tr>\n",
       "  </thead>\n",
       "  <tbody>\n",
       "    <tr>\n",
       "      <th>0</th>\n",
       "      <td>1:C1</td>\n",
       "      <td>109.000</td>\n",
       "      <td>110.091</td>\n",
       "      <td>99.008</td>\n",
       "      <td>-0.002</td>\n",
       "      <td>0.005</td>\n",
       "      <td>GOOD</td>\n",
       "      <td>1.0</td>\n",
       "      <td>14063 2021/8/10   14:15:13  14:15:19'</td>\n",
       "      <td>2021/8/10</td>\n",
       "      <td>PASS</td>\n",
       "      <td>KohYoung</td>\n",
       "      <td>''</td>\n",
       "      <td>KOHYOUNG</td>\n",
       "      <td>T</td>\n",
       "      <td>6</td>\n",
       "      <td>GT30-V2.8-00-TOP-10</td>\n",
       "      <td>14063</td>\n",
       "      <td>14:15:13</td>\n",
       "      <td>14:15:19</td>\n",
       "    </tr>\n",
       "    <tr>\n",
       "      <th>1</th>\n",
       "      <td>1:C1</td>\n",
       "      <td>104.116</td>\n",
       "      <td>116.925</td>\n",
       "      <td>89.045</td>\n",
       "      <td>-0.006</td>\n",
       "      <td>0.005</td>\n",
       "      <td>GOOD</td>\n",
       "      <td>1.0</td>\n",
       "      <td>14063 2021/8/10   14:15:13  14:15:19'</td>\n",
       "      <td>2021/8/10</td>\n",
       "      <td>PASS</td>\n",
       "      <td>KohYoung</td>\n",
       "      <td>''</td>\n",
       "      <td>KOHYOUNG</td>\n",
       "      <td>T</td>\n",
       "      <td>6</td>\n",
       "      <td>GT30-V2.8-00-TOP-10</td>\n",
       "      <td>14063</td>\n",
       "      <td>14:15:13</td>\n",
       "      <td>14:15:19</td>\n",
       "    </tr>\n",
       "    <tr>\n",
       "      <th>2</th>\n",
       "      <td>1:C3</td>\n",
       "      <td>109.883</td>\n",
       "      <td>115.214</td>\n",
       "      <td>95.373</td>\n",
       "      <td>0.003</td>\n",
       "      <td>0.001</td>\n",
       "      <td>GOOD</td>\n",
       "      <td>1.0</td>\n",
       "      <td>14063 2021/8/10   14:15:13  14:15:19'</td>\n",
       "      <td>2021/8/10</td>\n",
       "      <td>PASS</td>\n",
       "      <td>KohYoung</td>\n",
       "      <td>''</td>\n",
       "      <td>KOHYOUNG</td>\n",
       "      <td>T</td>\n",
       "      <td>6</td>\n",
       "      <td>GT30-V2.8-00-TOP-10</td>\n",
       "      <td>14063</td>\n",
       "      <td>14:15:13</td>\n",
       "      <td>14:15:19</td>\n",
       "    </tr>\n",
       "    <tr>\n",
       "      <th>3</th>\n",
       "      <td>1:C3</td>\n",
       "      <td>114.777</td>\n",
       "      <td>119.189</td>\n",
       "      <td>96.298</td>\n",
       "      <td>0.003</td>\n",
       "      <td>0.006</td>\n",
       "      <td>GOOD</td>\n",
       "      <td>1.0</td>\n",
       "      <td>14063 2021/8/10   14:15:13  14:15:19'</td>\n",
       "      <td>2021/8/10</td>\n",
       "      <td>PASS</td>\n",
       "      <td>KohYoung</td>\n",
       "      <td>''</td>\n",
       "      <td>KOHYOUNG</td>\n",
       "      <td>T</td>\n",
       "      <td>6</td>\n",
       "      <td>GT30-V2.8-00-TOP-10</td>\n",
       "      <td>14063</td>\n",
       "      <td>14:15:13</td>\n",
       "      <td>14:15:19</td>\n",
       "    </tr>\n",
       "    <tr>\n",
       "      <th>4</th>\n",
       "      <td>1:C4</td>\n",
       "      <td>114.009</td>\n",
       "      <td>115.141</td>\n",
       "      <td>99.017</td>\n",
       "      <td>-0.010</td>\n",
       "      <td>0.014</td>\n",
       "      <td>GOOD</td>\n",
       "      <td>1.0</td>\n",
       "      <td>14063 2021/8/10   14:15:13  14:15:19'</td>\n",
       "      <td>2021/8/10</td>\n",
       "      <td>PASS</td>\n",
       "      <td>KohYoung</td>\n",
       "      <td>''</td>\n",
       "      <td>KOHYOUNG</td>\n",
       "      <td>T</td>\n",
       "      <td>6</td>\n",
       "      <td>GT30-V2.8-00-TOP-10</td>\n",
       "      <td>14063</td>\n",
       "      <td>14:15:13</td>\n",
       "      <td>14:15:19</td>\n",
       "    </tr>\n",
       "    <tr>\n",
       "      <th>...</th>\n",
       "      <td>...</td>\n",
       "      <td>...</td>\n",
       "      <td>...</td>\n",
       "      <td>...</td>\n",
       "      <td>...</td>\n",
       "      <td>...</td>\n",
       "      <td>...</td>\n",
       "      <td>...</td>\n",
       "      <td>...</td>\n",
       "      <td>...</td>\n",
       "      <td>...</td>\n",
       "      <td>...</td>\n",
       "      <td>...</td>\n",
       "      <td>...</td>\n",
       "      <td>...</td>\n",
       "      <td>...</td>\n",
       "      <td>...</td>\n",
       "      <td>...</td>\n",
       "      <td>...</td>\n",
       "      <td>...</td>\n",
       "    </tr>\n",
       "    <tr>\n",
       "      <th>8297435</th>\n",
       "      <td>1:X1</td>\n",
       "      <td>100.701</td>\n",
       "      <td>118.078</td>\n",
       "      <td>110.869</td>\n",
       "      <td>0.007</td>\n",
       "      <td>-0.009</td>\n",
       "      <td>GOOD</td>\n",
       "      <td>1.0</td>\n",
       "      <td>44652 2021/8/27   23:59:14  23:59:19'</td>\n",
       "      <td>2021/8/27</td>\n",
       "      <td>GOOD</td>\n",
       "      <td>KohYoung</td>\n",
       "      <td>''</td>\n",
       "      <td>KOHYOUNG</td>\n",
       "      <td>T</td>\n",
       "      <td>5</td>\n",
       "      <td>GT30-V2.8-00-TOP-10</td>\n",
       "      <td>44652</td>\n",
       "      <td>23:59:14</td>\n",
       "      <td>23:59:19</td>\n",
       "    </tr>\n",
       "    <tr>\n",
       "      <th>8297436</th>\n",
       "      <td>1:X1</td>\n",
       "      <td>109.346</td>\n",
       "      <td>126.694</td>\n",
       "      <td>112.199</td>\n",
       "      <td>0.006</td>\n",
       "      <td>0.001</td>\n",
       "      <td>GOOD</td>\n",
       "      <td>1.0</td>\n",
       "      <td>44652 2021/8/27   23:59:14  23:59:19'</td>\n",
       "      <td>2021/8/27</td>\n",
       "      <td>GOOD</td>\n",
       "      <td>KohYoung</td>\n",
       "      <td>''</td>\n",
       "      <td>KOHYOUNG</td>\n",
       "      <td>T</td>\n",
       "      <td>5</td>\n",
       "      <td>GT30-V2.8-00-TOP-10</td>\n",
       "      <td>44652</td>\n",
       "      <td>23:59:14</td>\n",
       "      <td>23:59:19</td>\n",
       "    </tr>\n",
       "    <tr>\n",
       "      <th>8297437</th>\n",
       "      <td>1:X1</td>\n",
       "      <td>109.792</td>\n",
       "      <td>130.359</td>\n",
       "      <td>109.489</td>\n",
       "      <td>0.002</td>\n",
       "      <td>-0.008</td>\n",
       "      <td>GOOD</td>\n",
       "      <td>1.0</td>\n",
       "      <td>44652 2021/8/27   23:59:14  23:59:19'</td>\n",
       "      <td>2021/8/27</td>\n",
       "      <td>GOOD</td>\n",
       "      <td>KohYoung</td>\n",
       "      <td>''</td>\n",
       "      <td>KOHYOUNG</td>\n",
       "      <td>T</td>\n",
       "      <td>5</td>\n",
       "      <td>GT30-V2.8-00-TOP-10</td>\n",
       "      <td>44652</td>\n",
       "      <td>23:59:14</td>\n",
       "      <td>23:59:19</td>\n",
       "    </tr>\n",
       "    <tr>\n",
       "      <th>8297438</th>\n",
       "      <td>1:X1</td>\n",
       "      <td>107.749</td>\n",
       "      <td>126.283</td>\n",
       "      <td>110.921</td>\n",
       "      <td>0.007</td>\n",
       "      <td>0.003</td>\n",
       "      <td>GOOD</td>\n",
       "      <td>1.0</td>\n",
       "      <td>44652 2021/8/27   23:59:14  23:59:19'</td>\n",
       "      <td>2021/8/27</td>\n",
       "      <td>GOOD</td>\n",
       "      <td>KohYoung</td>\n",
       "      <td>''</td>\n",
       "      <td>KOHYOUNG</td>\n",
       "      <td>T</td>\n",
       "      <td>5</td>\n",
       "      <td>GT30-V2.8-00-TOP-10</td>\n",
       "      <td>44652</td>\n",
       "      <td>23:59:14</td>\n",
       "      <td>23:59:19</td>\n",
       "    </tr>\n",
       "    <tr>\n",
       "      <th>8297439</th>\n",
       "      <td>1:X1</td>\n",
       "      <td>106.305</td>\n",
       "      <td>125.536</td>\n",
       "      <td>110.085</td>\n",
       "      <td>0.006</td>\n",
       "      <td>0.000</td>\n",
       "      <td>GOOD</td>\n",
       "      <td>1.0</td>\n",
       "      <td>44652 2021/8/27   23:59:14  23:59:19'</td>\n",
       "      <td>2021/8/27</td>\n",
       "      <td>GOOD</td>\n",
       "      <td>KohYoung</td>\n",
       "      <td>''</td>\n",
       "      <td>KOHYOUNG</td>\n",
       "      <td>T</td>\n",
       "      <td>5</td>\n",
       "      <td>GT30-V2.8-00-TOP-10</td>\n",
       "      <td>44652</td>\n",
       "      <td>23:59:14</td>\n",
       "      <td>23:59:19</td>\n",
       "    </tr>\n",
       "  </tbody>\n",
       "</table>\n",
       "<p>7423900 rows × 20 columns</p>\n",
       "</div>"
      ],
      "text/plain": [
       "        Component ID  Volume(%)  Height(um)  Area(%)  OffsetX(mm)  \\\n",
       "0               1:C1    109.000     110.091   99.008       -0.002   \n",
       "1               1:C1    104.116     116.925   89.045       -0.006   \n",
       "2               1:C3    109.883     115.214   95.373        0.003   \n",
       "3               1:C3    114.777     119.189   96.298        0.003   \n",
       "4               1:C4    114.009     115.141   99.017       -0.010   \n",
       "...              ...        ...         ...      ...          ...   \n",
       "8297435         1:X1    100.701     118.078  110.869        0.007   \n",
       "8297436         1:X1    109.346     126.694  112.199        0.006   \n",
       "8297437         1:X1    109.792     130.359  109.489        0.002   \n",
       "8297438         1:X1    107.749     126.283  110.921        0.007   \n",
       "8297439         1:X1    106.305     125.536  110.085        0.006   \n",
       "\n",
       "         OffsetY(mm) Result  Panel                                    Image  \\\n",
       "0              0.005   GOOD    1.0    14063 2021/8/10   14:15:13  14:15:19'   \n",
       "1              0.005   GOOD    1.0    14063 2021/8/10   14:15:13  14:15:19'   \n",
       "2              0.001   GOOD    1.0    14063 2021/8/10   14:15:13  14:15:19'   \n",
       "3              0.006   GOOD    1.0    14063 2021/8/10   14:15:13  14:15:19'   \n",
       "4              0.014   GOOD    1.0    14063 2021/8/10   14:15:13  14:15:19'   \n",
       "...              ...    ...    ...                                      ...   \n",
       "8297435       -0.009   GOOD    1.0    44652 2021/8/27   23:59:14  23:59:19'   \n",
       "8297436        0.001   GOOD    1.0    44652 2021/8/27   23:59:14  23:59:19'   \n",
       "8297437       -0.008   GOOD    1.0    44652 2021/8/27   23:59:14  23:59:19'   \n",
       "8297438        0.003   GOOD    1.0    44652 2021/8/27   23:59:14  23:59:19'   \n",
       "8297439        0.000   GOOD    1.0    44652 2021/8/27   23:59:14  23:59:19'   \n",
       "\n",
       "              DATE JOBRESULT       ana1 ana2   MACHINE SIZE  CYCLE  \\\n",
       "0        2021/8/10      PASS   KohYoung   ''  KOHYOUNG    T      6   \n",
       "1        2021/8/10      PASS   KohYoung   ''  KOHYOUNG    T      6   \n",
       "2        2021/8/10      PASS   KohYoung   ''  KOHYOUNG    T      6   \n",
       "3        2021/8/10      PASS   KohYoung   ''  KOHYOUNG    T      6   \n",
       "4        2021/8/10      PASS   KohYoung   ''  KOHYOUNG    T      6   \n",
       "...            ...       ...        ...  ...       ...  ...    ...   \n",
       "8297435  2021/8/27      GOOD   KohYoung   ''  KOHYOUNG    T      5   \n",
       "8297436  2021/8/27      GOOD   KohYoung   ''  KOHYOUNG    T      5   \n",
       "8297437  2021/8/27      GOOD   KohYoung   ''  KOHYOUNG    T      5   \n",
       "8297438  2021/8/27      GOOD   KohYoung   ''  KOHYOUNG    T      5   \n",
       "8297439  2021/8/27      GOOD   KohYoung   ''  KOHYOUNG    T      5   \n",
       "\n",
       "                         JOB  BARCODE_INDEX    S_TIME    E.TIME  \n",
       "0        GT30-V2.8-00-TOP-10          14063  14:15:13  14:15:19  \n",
       "1        GT30-V2.8-00-TOP-10          14063  14:15:13  14:15:19  \n",
       "2        GT30-V2.8-00-TOP-10          14063  14:15:13  14:15:19  \n",
       "3        GT30-V2.8-00-TOP-10          14063  14:15:13  14:15:19  \n",
       "4        GT30-V2.8-00-TOP-10          14063  14:15:13  14:15:19  \n",
       "...                      ...            ...       ...       ...  \n",
       "8297435  GT30-V2.8-00-TOP-10          44652  23:59:14  23:59:19  \n",
       "8297436  GT30-V2.8-00-TOP-10          44652  23:59:14  23:59:19  \n",
       "8297437  GT30-V2.8-00-TOP-10          44652  23:59:14  23:59:19  \n",
       "8297438  GT30-V2.8-00-TOP-10          44652  23:59:14  23:59:19  \n",
       "8297439  GT30-V2.8-00-TOP-10          44652  23:59:14  23:59:19  \n",
       "\n",
       "[7423900 rows x 20 columns]"
      ]
     },
     "execution_count": 10,
     "metadata": {},
     "output_type": "execute_result"
    }
   ],
   "source": [
    "T_data"
   ]
  },
  {
   "cell_type": "code",
   "execution_count": 14,
   "id": "atlantic-strength",
   "metadata": {},
   "outputs": [],
   "source": [
    "B=B_data[\"Result\"].apply(lambda x:1 if x==\"GOOD\" else 0)"
   ]
  },
  {
   "cell_type": "code",
   "execution_count": 15,
   "id": "disturbed-rescue",
   "metadata": {
    "scrolled": true
   },
   "outputs": [
    {
     "data": {
      "text/plain": [
       "1    6556479\n",
       "0       1401\n",
       "Name: Result, dtype: int64"
      ]
     },
     "execution_count": 15,
     "metadata": {},
     "output_type": "execute_result"
    }
   ],
   "source": [
    "B.value_counts()"
   ]
  },
  {
   "cell_type": "code",
   "execution_count": 11,
   "id": "electric-canberra",
   "metadata": {},
   "outputs": [],
   "source": [
    "# X=T_data[lables]\n",
    "Y=T_data[\"Result\"].apply(lambda x:1 if x==\"GOOD\" else 0)"
   ]
  },
  {
   "cell_type": "code",
   "execution_count": 13,
   "id": "strange-shooting",
   "metadata": {},
   "outputs": [
    {
     "data": {
      "text/plain": [
       "1    7415517\n",
       "0       8383\n",
       "Name: Result, dtype: int64"
      ]
     },
     "execution_count": 13,
     "metadata": {},
     "output_type": "execute_result"
    }
   ],
   "source": [
    "Y.value_counts()"
   ]
  },
  {
   "cell_type": "code",
   "execution_count": 20,
   "id": "lucky-thomas",
   "metadata": {},
   "outputs": [],
   "source": [
    "# 切分数据集\n",
    "from sklearn.model_selection import train_test_split\n",
    "\n",
    "x_train, x_test, y_train, y_test = train_test_split(X,Y,test_size = 0.2, random_state = 0)"
   ]
  },
  {
   "cell_type": "markdown",
   "id": "logical-rubber",
   "metadata": {},
   "source": [
    "### 采用逻辑回归模型分类预测"
   ]
  },
  {
   "cell_type": "code",
   "execution_count": 16,
   "id": "fuzzy-board",
   "metadata": {},
   "outputs": [],
   "source": [
    "from sklearn.linear_model import LogisticRegression\n",
    "# 标准化处理\n",
    "from sklearn.preprocessing import StandardScaler\n",
    "\n",
    "X=StandardScaler().fit_transform(X)\n",
    "x_train, x_test, y_train, y_test = train_test_split(X,Y,test_size = 0.2, random_state = 0)\n",
    "\n",
    "clf= LogisticRegression(\n",
    "    random_state=2021,\n",
    "    solver='lbfgs',\n",
    "    multi_class='multinomial'\n",
    ").fit(x_train,y_train)\n"
   ]
  },
  {
   "cell_type": "code",
   "execution_count": 61,
   "id": "destroyed-jurisdiction",
   "metadata": {},
   "outputs": [],
   "source": [
    "pre_class=clf.predict(x_test)"
   ]
  },
  {
   "cell_type": "code",
   "execution_count": 68,
   "id": "satisfied-briefing",
   "metadata": {},
   "outputs": [
    {
     "data": {
      "text/plain": [
       "Text(33.0, 0.5, 'true')"
      ]
     },
     "execution_count": 68,
     "metadata": {},
     "output_type": "execute_result"
    },
    {
     "data": {
      "image/png": "[encoded data removed]",
      "text/plain": [
       "<Figure size 432x288 with 2 Axes>"
      ]
     },
     "metadata": {
      "needs_background": "light"
     },
     "output_type": "display_data"
    }
   ],
   "source": [
    "pre_class=clf.predict(x_test)\n",
    "from sklearn.metrics import confusion_matrix\n",
    "# classes = list(set(y_test))\n",
    "confusion = confusion_matrix(y_test,pre_class) \n",
    "ax = sns.heatmap(pd.DataFrame(confusion),annot=True,fmt='.20g',cmap=\"Blues\")\n",
    "ax.set_title('confusion matrix') #标题\n",
    "ax.set_xlabel('predict') #x轴\n",
    "ax.set_ylabel('true') #yconfusion"
   ]
  },
  {
   "cell_type": "code",
   "execution_count": 63,
   "id": "arbitrary-truck",
   "metadata": {},
   "outputs": [
    {
     "name": "stdout",
     "output_type": "stream",
     "text": [
      "              precision    recall  f1-score   support\n",
      "\n",
      "           0       0.77      0.59      0.67       282\n",
      "           1       1.00      1.00      1.00   1311294\n",
      "\n",
      "    accuracy                           1.00   1311576\n",
      "   macro avg       0.89      0.79      0.83   1311576\n",
      "weighted avg       1.00      1.00      1.00   1311576\n",
      "\n"
     ]
    }
   ],
   "source": [
    "# l=[]\n",
    "# for i in y_pred:\n",
    "#     l.append(pre_class(i))\n",
    "from sklearn.metrics import classification_report\n",
    "print(classification_report(y_test,pre_class))"
   ]
  },
  {
   "cell_type": "code",
   "execution_count": null,
   "id": "applied-education",
   "metadata": {},
   "outputs": [],
   "source": []
  },
  {
   "cell_type": "code",
   "execution_count": null,
   "id": "medieval-nylon",
   "metadata": {},
   "outputs": [],
   "source": []
  },
  {
   "cell_type": "markdown",
   "id": "following-prisoner",
   "metadata": {},
   "source": [
    "### KNN模型"
   ]
  },
  {
   "cell_type": "code",
   "execution_count": 21,
   "id": "verbal-arcade",
   "metadata": {},
   "outputs": [],
   "source": [
    "from sklearn.neighbors import KNeighborsClassifier\n",
    "from sklearn.preprocessing import StandardScaler\n",
    "\n",
    "X1=StandardScaler().fit_transform(X)\n",
    "x_train, x_test, y_train, y_test = train_test_split(X1,Y,test_size = 0.2, random_state = 0)\n",
    "\n",
    "clf = KNeighborsClassifier(3).fit(x_train,y_train)"
   ]
  },
  {
   "cell_type": "code",
   "execution_count": 10,
   "id": "certain-complement",
   "metadata": {},
   "outputs": [
    {
     "data": {
      "text/plain": [
       "Text(33.0, 0.5, 'true')"
      ]
     },
     "execution_count": 10,
     "metadata": {},
     "output_type": "execute_result"
    },
    {
     "data": {
      "image/png": "[encoded data removed]",
      "text/plain": [
       "<Figure size 432x288 with 2 Axes>"
      ]
     },
     "metadata": {
      "needs_background": "light"
     },
     "output_type": "display_data"
    }
   ],
   "source": [
    "data=[[   1395,     241],\n",
    "       [     72, 1483072]]\n",
    "# pre_class=clf.predict(x_test)\n",
    "# from sklearn.metrics import confusion_matrix\n",
    "# classes = list(set(y_test))\n",
    "\n",
    "ax = sns.heatmap(pd.DataFrame(data),annot=True,fmt='.20g',cmap=\"Blues\")\n",
    "ax.set_title('confusion matrix') #标题\n",
    "ax.set_xlabel('predict') #x轴\n",
    "ax.set_ylabel('true') #yconfusion\n"
   ]
  },
  {
   "cell_type": "code",
   "execution_count": 11,
   "id": "pacific-screening",
   "metadata": {},
   "outputs": [
    {
     "ename": "NameError",
     "evalue": "name 'y_test' is not defined",
     "output_type": "error",
     "traceback": [
      "\u001b[1;31m---------------------------------------------------------------------------\u001b[0m",
      "\u001b[1;31mNameError\u001b[0m                                 Traceback (most recent call last)",
      "\u001b[1;32m<ipython-input-11-c4ff0f536bc2>\u001b[0m in \u001b[0;36m<module>\u001b[1;34m\u001b[0m\n\u001b[0;32m      1\u001b[0m \u001b[1;32mfrom\u001b[0m \u001b[0msklearn\u001b[0m\u001b[1;33m.\u001b[0m\u001b[0mmetrics\u001b[0m \u001b[1;32mimport\u001b[0m \u001b[0mclassification_report\u001b[0m\u001b[1;33m\u001b[0m\u001b[1;33m\u001b[0m\u001b[0m\n\u001b[1;32m----> 2\u001b[1;33m \u001b[0mprint\u001b[0m\u001b[1;33m(\u001b[0m\u001b[0mclassification_report\u001b[0m\u001b[1;33m(\u001b[0m\u001b[0my_test\u001b[0m\u001b[1;33m,\u001b[0m\u001b[0mpre_class\u001b[0m\u001b[1;33m)\u001b[0m\u001b[1;33m)\u001b[0m\u001b[1;33m\u001b[0m\u001b[1;33m\u001b[0m\u001b[0m\n\u001b[0m",
      "\u001b[1;31mNameError\u001b[0m: name 'y_test' is not defined"
     ]
    }
   ],
   "source": [
    "from sklearn.metrics import classification_report\n",
    "print(classification_report(y_test,pre_class))"
   ]
  },
  {
   "cell_type": "markdown",
   "id": "sporting-anxiety",
   "metadata": {},
   "source": [
    "### 高斯贝叶斯模型"
   ]
  },
  {
   "cell_type": "code",
   "execution_count": 72,
   "id": "sunset-happening",
   "metadata": {},
   "outputs": [
    {
     "data": {
      "text/plain": [
       "0.9991567396780667"
      ]
     },
     "execution_count": 72,
     "metadata": {},
     "output_type": "execute_result"
    }
   ],
   "source": [
    "from sklearn.naive_bayes import GaussianNB\n",
    "from sklearn.preprocessing import StandardScaler\n",
    "X1=StandardScaler().fit_transform(X)\n",
    "x_train, x_test, y_train, y_test = train_test_split(X1,Y,test_size = 0.2, random_state = 0)\n",
    "\n",
    "clf = GaussianNB().fit(x_train, y_train)\n",
    "clf.score(x_test,y_test)"
   ]
  },
  {
   "cell_type": "code",
   "execution_count": 73,
   "id": "parental-punch",
   "metadata": {},
   "outputs": [
    {
     "data": {
      "text/plain": [
       "Text(33.0, 0.5, 'true')"
      ]
     },
     "execution_count": 73,
     "metadata": {},
     "output_type": "execute_result"
    },
    {
     "data": {
      "image/png": "[encoded data removed]",
      "text/plain": [
       "<Figure size 432x288 with 2 Axes>"
      ]
     },
     "metadata": {
      "needs_background": "light"
     },
     "output_type": "display_data"
    }
   ],
   "source": [
    "pre_class=clf.predict(x_test)\n",
    "from sklearn.metrics import confusion_matrix\n",
    "# classes = list(set(y_test))\n",
    "confusion = confusion_matrix(y_test,pre_class) \n",
    "ax = sns.heatmap(pd.DataFrame(confusion),annot=True,fmt='.20g',cmap=\"Blues\")\n",
    "ax.set_title('confusion matrix') #标题\n",
    "ax.set_xlabel('predict') #x轴\n",
    "ax.set_ylabel('true') #yconfusion\n"
   ]
  },
  {
   "cell_type": "code",
   "execution_count": 74,
   "id": "informative-drain",
   "metadata": {},
   "outputs": [
    {
     "name": "stdout",
     "output_type": "stream",
     "text": [
      "              precision    recall  f1-score   support\n",
      "\n",
      "           0       0.20      0.96      0.33       282\n",
      "           1       1.00      1.00      1.00   1311294\n",
      "\n",
      "    accuracy                           1.00   1311576\n",
      "   macro avg       0.60      0.98      0.66   1311576\n",
      "weighted avg       1.00      1.00      1.00   1311576\n",
      "\n"
     ]
    }
   ],
   "source": [
    "from sklearn.metrics import classification_report\n",
    "print(classification_report(y_test,pre_class))"
   ]
  },
  {
   "cell_type": "markdown",
   "id": "elementary-moral",
   "metadata": {},
   "source": [
    "### 采用决策树模型"
   ]
  },
  {
   "cell_type": "code",
   "execution_count": 75,
   "id": "sealed-supplement",
   "metadata": {},
   "outputs": [
    {
     "data": {
      "text/plain": [
       "0.9998726722660372"
      ]
     },
     "execution_count": 75,
     "metadata": {},
     "output_type": "execute_result"
    }
   ],
   "source": [
    "from sklearn.tree import DecisionTreeClassifier\n",
    "x_train, x_test, y_train, y_test = train_test_split(X1,Y,test_size = 0.2, random_state = 0)\n",
    "\n",
    "clf = DecisionTreeClassifier().fit(x_train,y_train)\n",
    "\n",
    "clf.score(x_test,y_test)"
   ]
  },
  {
   "cell_type": "code",
   "execution_count": 76,
   "id": "refined-lesbian",
   "metadata": {
    "scrolled": false
   },
   "outputs": [
    {
     "name": "stdout",
     "output_type": "stream",
     "text": [
      "              precision    recall  f1-score   support\n",
      "\n",
      "           0       0.71      0.69      0.70       282\n",
      "           1       1.00      1.00      1.00   1311294\n",
      "\n",
      "    accuracy                           1.00   1311576\n",
      "   macro avg       0.85      0.85      0.85   1311576\n",
      "weighted avg       1.00      1.00      1.00   1311576\n",
      "\n"
     ]
    },
    {
     "data": {
      "image/png": "[encoded data removed]",
      "text/plain": [
       "<Figure size 432x288 with 2 Axes>"
      ]
     },
     "metadata": {
      "needs_background": "light"
     },
     "output_type": "display_data"
    }
   ],
   "source": [
    "# 评价指标\n",
    "pre_class=clf.predict(x_test)\n",
    "from sklearn.metrics import confusion_matrix\n",
    "# classes = list(set(y_test))\n",
    "confusion = confusion_matrix(y_test,pre_class) \n",
    "ax = sns.heatmap(pd.DataFrame(confusion),annot=True,fmt='.20g',cmap=\"Blues\")\n",
    "ax.set_title('confusion matrix') #标题\n",
    "ax.set_xlabel('predict') #x轴\n",
    "ax.set_ylabel('true') #yconfusion\n",
    "from sklearn.metrics import classification_report\n",
    "print(classification_report(y_test,pre_class))"
   ]
  },
  {
   "cell_type": "markdown",
   "id": "romance-blast",
   "metadata": {},
   "source": [
    "### 随机森林\n"
   ]
  },
  {
   "cell_type": "code",
   "execution_count": 78,
   "id": "crude-essence",
   "metadata": {},
   "outputs": [
    {
     "data": {
      "text/plain": [
       "0.9998940206286178"
      ]
     },
     "execution_count": 78,
     "metadata": {},
     "output_type": "execute_result"
    }
   ],
   "source": [
    "from sklearn.ensemble import RandomForestClassifier\n",
    "\n",
    "x_train, x_test, y_train, y_test = train_test_split(X1,Y,test_size = 0.2, random_state = 0)\n",
    "\n",
    "clf = RandomForestClassifier(\n",
    "    n_estimators= 21,\n",
    "    max_depth= None,\n",
    "    min_samples_split=2,\n",
    "    random_state =2021\n",
    ")\n",
    "clf.fit(x_train,y_train)\n",
    "clf.score(x_test,y_test)"
   ]
  },
  {
   "cell_type": "code",
   "execution_count": 79,
   "id": "higher-intent",
   "metadata": {},
   "outputs": [
    {
     "name": "stdout",
     "output_type": "stream",
     "text": [
      "              precision    recall  f1-score   support\n",
      "\n",
      "           0       0.82      0.65      0.73       282\n",
      "           1       1.00      1.00      1.00   1311294\n",
      "\n",
      "    accuracy                           1.00   1311576\n",
      "   macro avg       0.91      0.83      0.86   1311576\n",
      "weighted avg       1.00      1.00      1.00   1311576\n",
      "\n"
     ]
    },
    {
     "data": {
      "image/png": "[encoded data removed]",
      "text/plain": [
       "<Figure size 432x288 with 2 Axes>"
      ]
     },
     "metadata": {
      "needs_background": "light"
     },
     "output_type": "display_data"
    }
   ],
   "source": [
    "# 评价指标\n",
    "pre_class=clf.predict(x_test)\n",
    "from sklearn.metrics import confusion_matrix\n",
    "# classes = list(set(y_test))\n",
    "confusion = confusion_matrix(y_test,pre_class) \n",
    "ax = sns.heatmap(pd.DataFrame(confusion),annot=True,fmt='.20g',cmap=\"Blues\")\n",
    "ax.set_title('confusion matrix') #标题\n",
    "ax.set_xlabel('predict') #x轴\n",
    "ax.set_ylabel('true') #yconfusion\n",
    "from sklearn.metrics import classification_report\n",
    "print(classification_report(y_test,pre_class))"
   ]
  },
  {
   "cell_type": "markdown",
   "id": "previous-picking",
   "metadata": {},
   "source": [
    "### 极端随机数"
   ]
  },
  {
   "cell_type": "code",
   "execution_count": 80,
   "id": "forty-stewart",
   "metadata": {},
   "outputs": [
    {
     "data": {
      "text/plain": [
       "0.9998802966812446"
      ]
     },
     "execution_count": 80,
     "metadata": {},
     "output_type": "execute_result"
    }
   ],
   "source": [
    "from sklearn.ensemble import ExtraTreesClassifier\n",
    "\n",
    "x_train, x_test, y_train, y_test = train_test_split(X1,Y,test_size = 0.2, random_state = 0)\n",
    "\n",
    "clf= ExtraTreesClassifier(\n",
    "    n_estimators=21,\n",
    "    max_depth=None,\n",
    "    min_samples_split=2,\n",
    "    random_state=2021\n",
    ")\n",
    "clf=clf.fit(x_train,y_train)\n",
    "clf.score(x_test,y_test)"
   ]
  },
  {
   "cell_type": "code",
   "execution_count": 81,
   "id": "august-prague",
   "metadata": {},
   "outputs": [
    {
     "name": "stdout",
     "output_type": "stream",
     "text": [
      "              precision    recall  f1-score   support\n",
      "\n",
      "           0       0.78      0.61      0.69       282\n",
      "           1       1.00      1.00      1.00   1311294\n",
      "\n",
      "    accuracy                           1.00   1311576\n",
      "   macro avg       0.89      0.81      0.84   1311576\n",
      "weighted avg       1.00      1.00      1.00   1311576\n",
      "\n"
     ]
    },
    {
     "data": {
      "image/png": "[encoded data removed]",
      "text/plain": [
       "<Figure size 432x288 with 2 Axes>"
      ]
     },
     "metadata": {
      "needs_background": "light"
     },
     "output_type": "display_data"
    }
   ],
   "source": [
    "# 评价指标\n",
    "pre_class=clf.predict(x_test)\n",
    "from sklearn.metrics import confusion_matrix\n",
    "# classes = list(set(y_test))\n",
    "confusion = confusion_matrix(y_test,pre_class) \n",
    "ax = sns.heatmap(pd.DataFrame(confusion),annot=True,fmt='.20g',cmap=\"Blues\")\n",
    "ax.set_title('confusion matrix') #标题\n",
    "ax.set_xlabel('predict') #x轴\n",
    "ax.set_ylabel('true') #yconfusion\n",
    "from sklearn.metrics import classification_report\n",
    "print(classification_report(y_test,pre_class))"
   ]
  },
  {
   "cell_type": "markdown",
   "id": "verified-driving",
   "metadata": {},
   "source": [
    "### Adaboost模型"
   ]
  },
  {
   "cell_type": "code",
   "execution_count": 82,
   "id": "hungarian-court",
   "metadata": {},
   "outputs": [
    {
     "data": {
      "text/plain": [
       "-0.5962013695635482"
      ]
     },
     "execution_count": 82,
     "metadata": {},
     "output_type": "execute_result"
    }
   ],
   "source": [
    "from sklearn.ensemble import AdaBoostRegressor\n",
    "\n",
    "x_train, x_test, y_train, y_test = train_test_split(X1,Y,test_size = 0.2, random_state = 0)\n",
    "\n",
    "clf = AdaBoostRegressor(\n",
    "    n_estimators=100\n",
    ")\n",
    "clf.fit(x_train,y_train)\n",
    "clf.score(x_test,y_test)"
   ]
  },
  {
   "cell_type": "code",
   "execution_count": 89,
   "id": "former-trash",
   "metadata": {},
   "outputs": [],
   "source": [
    "# 评价指标\n",
    "pre_class=clf.predict(x_test)"
   ]
  },
  {
   "cell_type": "code",
   "execution_count": 90,
   "id": "incomplete-bankruptcy",
   "metadata": {},
   "outputs": [
    {
     "data": {
      "text/plain": [
       "array([0.99719707, 0.99719707, 0.99719707, ..., 0.99719707, 0.99719707,\n",
       "       0.99719707])"
      ]
     },
     "execution_count": 90,
     "metadata": {},
     "output_type": "execute_result"
    }
   ],
   "source": [
    "pre_class"
   ]
  },
  {
   "cell_type": "code",
   "execution_count": 25,
   "id": "satisfactory-relevance",
   "metadata": {},
   "outputs": [
    {
     "ename": "NameError",
     "evalue": "name 'pre_class' is not defined",
     "output_type": "error",
     "traceback": [
      "\u001b[1;31m---------------------------------------------------------------------------\u001b[0m",
      "\u001b[1;31mNameError\u001b[0m                                 Traceback (most recent call last)",
      "\u001b[1;32m<ipython-input-25-b6b891c266cd>\u001b[0m in \u001b[0;36m<module>\u001b[1;34m\u001b[0m\n\u001b[0;32m      5\u001b[0m         \u001b[1;32mreturn\u001b[0m \u001b[1;36m0\u001b[0m\u001b[1;33m\u001b[0m\u001b[1;33m\u001b[0m\u001b[0m\n\u001b[0;32m      6\u001b[0m \u001b[0mpre\u001b[0m\u001b[1;33m=\u001b[0m\u001b[1;33m[\u001b[0m\u001b[1;33m]\u001b[0m\u001b[1;33m\u001b[0m\u001b[1;33m\u001b[0m\u001b[0m\n\u001b[1;32m----> 7\u001b[1;33m \u001b[1;32mfor\u001b[0m \u001b[0mi\u001b[0m \u001b[1;32min\u001b[0m \u001b[0mpre_class\u001b[0m\u001b[1;33m:\u001b[0m\u001b[1;33m\u001b[0m\u001b[1;33m\u001b[0m\u001b[0m\n\u001b[0m\u001b[0;32m      8\u001b[0m     \u001b[0mpre\u001b[0m\u001b[1;33m.\u001b[0m\u001b[0mappend\u001b[0m\u001b[1;33m(\u001b[0m\u001b[0mpre_class1\u001b[0m\u001b[1;33m(\u001b[0m\u001b[0mi\u001b[0m\u001b[1;33m)\u001b[0m\u001b[1;33m)\u001b[0m\u001b[1;33m\u001b[0m\u001b[1;33m\u001b[0m\u001b[0m\n\u001b[0;32m      9\u001b[0m \u001b[1;33m\u001b[0m\u001b[0m\n",
      "\u001b[1;31mNameError\u001b[0m: name 'pre_class' is not defined"
     ]
    }
   ],
   "source": [
    "def pre_class1(map_data):\n",
    "    if map_data>0.7:\n",
    "        return 1\n",
    "    else:\n",
    "        return 0\n",
    "pre=[]\n",
    "for i in pre_class:\n",
    "    pre.append(pre_class1(i))\n",
    "    "
   ]
  },
  {
   "cell_type": "code",
   "execution_count": 92,
   "id": "about-saver",
   "metadata": {},
   "outputs": [
    {
     "name": "stdout",
     "output_type": "stream",
     "text": [
      "              precision    recall  f1-score   support\n",
      "\n",
      "           0       0.07      0.99      0.13       282\n",
      "           1       1.00      1.00      1.00   1311294\n",
      "\n",
      "    accuracy                           1.00   1311576\n",
      "   macro avg       0.54      1.00      0.57   1311576\n",
      "weighted avg       1.00      1.00      1.00   1311576\n",
      "\n"
     ]
    },
    {
     "data": {
      "image/png": "[encoded data removed]",
      "text/plain": [
       "<Figure size 432x288 with 2 Axes>"
      ]
     },
     "metadata": {
      "needs_background": "light"
     },
     "output_type": "display_data"
    }
   ],
   "source": [
    "from sklearn.metrics import confusion_matrix\n",
    "# classes = list(set(y_test))\n",
    "confusion = confusion_matrix(y_test,pre) \n",
    "ax = sns.heatmap(pd.DataFrame(confusion),annot=True,fmt='.20g',cmap=\"Blues\")\n",
    "ax.set_title('confusion matrix') #标题\n",
    "ax.set_xlabel('predict') #x轴\n",
    "ax.set_ylabel('true') #yconfusion\n",
    "from sklearn.metrics import classification_report\n",
    "print(classification_report(y_test,pre))"
   ]
  },
  {
   "cell_type": "markdown",
   "id": "casual-spank",
   "metadata": {},
   "source": [
    "### 集成学习\n"
   ]
  },
  {
   "cell_type": "markdown",
   "id": "virtual-lecture",
   "metadata": {},
   "source": [
    "集成学习、采用硬投票的方法"
   ]
  },
  {
   "cell_type": "code",
   "execution_count": 12,
   "id": "posted-laundry",
   "metadata": {},
   "outputs": [],
   "source": [
    "from sklearn.model_selection import cross_val_score\n",
    "from sklearn.linear_model import LogisticRegression\n",
    "from sklearn.naive_bayes import GaussianNB\n",
    "from sklearn.ensemble import RandomForestClassifier\n",
    "from sklearn.ensemble import VotingClassifier\n",
    "from sklearn.preprocessing import StandardScaler\n",
    "\n",
    "X = StandardScaler().fit_transform(X1)"
   ]
  },
  {
   "cell_type": "code",
   "execution_count": 13,
   "id": "political-quantum",
   "metadata": {},
   "outputs": [
    {
     "name": "stdout",
     "output_type": "stream",
     "text": [
      "Accuracy:0.9999(+/-0.00) [LogisticRegression]\n",
      "Accuracy:0.9999(+/-0.00) [RandomForestClassifier]\n",
      "Accuracy:0.9992(+/-0.00) [GaussianNB]\n",
      "Accuracy:0.9998(+/-0.00) [VotingClassifier]\n"
     ]
    }
   ],
   "source": [
    "clf1 =LogisticRegression(\n",
    "    random_state=2021,\n",
    "    solver='lbfgs',\n",
    "    multi_class='multinomial')\n",
    "\n",
    "clf2 = RandomForestClassifier( n_estimators=50,\n",
    "                             random_state =2021\n",
    "                             )\n",
    "clf3 = GaussianNB()\n",
    "\n",
    "eclf = VotingClassifier(\n",
    "   estimators=[(\"lr\",clf1),(\"rf\",clf2),(\"gnb\",clf3)]\n",
    ")\n",
    "for clf,label in zip([clf1,clf2,clf3,eclf],\n",
    "                     [\"LogisticRegression\",\"RandomForestClassifier\",\"GaussianNB\",\"VotingClassifier\"]):\n",
    "    scores= cross_val_score(clf,X,Y,cv=5,scoring=\"accuracy\")\n",
    "    print(\"Accuracy:%.4f(+/-%.2f) [%s]\"%(scores.mean(),scores.std(),label))"
   ]
  },
  {
   "cell_type": "code",
   "execution_count": null,
   "id": "caroline-guarantee",
   "metadata": {},
   "outputs": [],
   "source": []
  },
  {
   "cell_type": "markdown",
   "id": "vietnamese-calibration",
   "metadata": {},
   "source": [
    "### LGB模型"
   ]
  },
  {
   "cell_type": "code",
   "execution_count": 22,
   "id": "canadian-influence",
   "metadata": {},
   "outputs": [
    {
     "name": "stdout",
     "output_type": "stream",
     "text": [
      "Training until validation scores don't improve for 200 rounds\n",
      "[500]\tvalid_0's l1: 0.000296809\n",
      "Early stopping, best iteration is:\n",
      "[363]\tvalid_0's l1: 0.000295492\n"
     ]
    }
   ],
   "source": [
    "import lightgbm\n",
    "x_train, x_test, y_train, y_test = train_test_split(X1,Y,test_size = 0.2, random_state = 0)\n",
    "\n",
    "x_test,x_valid,y_test,y_valid =train_test_split(x_test,y_test,test_size=0.5,random_state=0)\n",
    "\n",
    "clf =lightgbm\n",
    "train_matrix=clf.Dataset(x_train,label= y_train)\n",
    "test_matrix=clf.Dataset(x_test,label=y_test)\n",
    "params = {\n",
    "        'boosting_type': 'gbdt',\n",
    "        'objective': 'regression_l2',\n",
    "        'metric': 'mae',\n",
    "        'num_leaves': 2**8-1,\n",
    "        'lambda_l2': 10,\n",
    "        'feature_fraction': 0.8,\n",
    "        'bagging_fraction': 0.8,\n",
    "        'learning_rate': 0.01,\n",
    "        'seed': 2021,\n",
    "        'n_jobs':24,\n",
    "        'silent': True,\n",
    "        'verbose': -1,\n",
    "            }\n",
    "model = clf.train(params, train_matrix, 50000, valid_sets=test_matrix, verbose_eval=500, early_stopping_rounds=200)\n",
    "# val_pred = model.predict(val_x, num_iteration=model.best_iteration)\n",
    "test_pred = model.predict(x_valid, num_iteration=model.best_iteration)"
   ]
  },
  {
   "cell_type": "code",
   "execution_count": 38,
   "id": "pretty-missouri",
   "metadata": {},
   "outputs": [
    {
     "data": {
      "text/plain": [
       "0.999994    424981\n",
       "0.999994     82753\n",
       "0.999994     12208\n",
       "0.999994      7386\n",
       "0.999994      7147\n",
       "             ...  \n",
       "1.000722         1\n",
       "0.783599         1\n",
       "0.999915         1\n",
       "0.976192         1\n",
       "0.997200         1\n",
       "Length: 3816, dtype: int64"
      ]
     },
     "execution_count": 38,
     "metadata": {},
     "output_type": "execute_result"
    }
   ],
   "source": [
    "pd.Series(test_pred.tolist()).value_counts()"
   ]
  },
  {
   "cell_type": "code",
   "execution_count": 26,
   "id": "minimal-component",
   "metadata": {},
   "outputs": [
    {
     "name": "stdout",
     "output_type": "stream",
     "text": [
      "              precision    recall  f1-score   support\n",
      "\n",
      "           0       0.00      0.00      0.00       146\n",
      "           1       1.00      1.00      1.00    655642\n",
      "\n",
      "    accuracy                           1.00    655788\n",
      "   macro avg       0.50      0.50      0.50    655788\n",
      "weighted avg       1.00      1.00      1.00    655788\n",
      "\n"
     ]
    },
    {
     "data": {
      "image/png": "[encoded data removed]",
      "text/plain": [
       "<Figure size 432x288 with 2 Axes>"
      ]
     },
     "metadata": {
      "needs_background": "light"
     },
     "output_type": "display_data"
    }
   ],
   "source": [
    "def pre_class1(map_data):\n",
    "    if map_data>0.7:\n",
    "        return 1\n",
    "    else:\n",
    "        return 0\n",
    "pre=[]\n",
    "for i in test_pred:\n",
    "    pre.append(pre_class1(i))\n",
    "from sklearn.metrics import confusion_matrix\n",
    "# classes = list(set(y_test))\n",
    "confusion = confusion_matrix(y_test,pre) \n",
    "ax = sns.heatmap(pd.DataFrame(confusion),annot=True,fmt='.20g',cmap=\"Blues\")\n",
    "ax.set_title('confusion matrix') #标题\n",
    "ax.set_xlabel('predict') #x轴\n",
    "ax.set_ylabel('true') #yconfusion\n",
    "from sklearn.metrics import classification_report\n",
    "print(classification_report(y_test,pre))"
   ]
  },
  {
   "cell_type": "code",
   "execution_count": null,
   "id": "handy-patch",
   "metadata": {},
   "outputs": [],
   "source": []
  },
  {
   "cell_type": "markdown",
   "id": "endless-script",
   "metadata": {},
   "source": [
    "### XGB模型"
   ]
  },
  {
   "cell_type": "code",
   "execution_count": 43,
   "id": "provincial-frost",
   "metadata": {},
   "outputs": [
    {
     "name": "stdout",
     "output_type": "stream",
     "text": [
      "[0]\ttrain-merror:0.00010\teval-merror:0.00011\n",
      "Multiple eval metrics have been passed: 'eval-merror' will be used for early stopping.\n",
      "\n",
      "Will train until eval-merror hasn't improved in 200 rounds.\n",
      "Stopping. Best iteration:\n",
      "[2]\ttrain-merror:0.00010\teval-merror:0.00010\n",
      "\n"
     ]
    },
    {
     "ename": "NameError",
     "evalue": "name 'val_pred' is not defined",
     "output_type": "error",
     "traceback": [
      "\u001b[1;31m---------------------------------------------------------------------------\u001b[0m",
      "\u001b[1;31mNameError\u001b[0m                                 Traceback (most recent call last)",
      "\u001b[1;32m<ipython-input-43-d0aa14db94a1>\u001b[0m in \u001b[0;36m<module>\u001b[1;34m\u001b[0m\n\u001b[0;32m     33\u001b[0m \u001b[1;33m\u001b[0m\u001b[0m\n\u001b[0;32m     34\u001b[0m \u001b[1;33m\u001b[0m\u001b[0m\n\u001b[1;32m---> 35\u001b[1;33m \u001b[0mtrain\u001b[0m\u001b[1;33m[\u001b[0m\u001b[0mvalid_index\u001b[0m\u001b[1;33m]\u001b[0m \u001b[1;33m=\u001b[0m \u001b[0mval_pred\u001b[0m\u001b[1;33m\u001b[0m\u001b[1;33m\u001b[0m\u001b[0m\n\u001b[0m\u001b[0;32m     36\u001b[0m \u001b[0mtest\u001b[0m \u001b[1;33m+=\u001b[0m \u001b[0mtest_pred\u001b[0m \u001b[1;33m/\u001b[0m \u001b[0mkf\u001b[0m\u001b[1;33m.\u001b[0m\u001b[0mn_splits\u001b[0m\u001b[1;33m\u001b[0m\u001b[1;33m\u001b[0m\u001b[0m\n\u001b[0;32m     37\u001b[0m \u001b[0mcv_scores\u001b[0m\u001b[1;33m.\u001b[0m\u001b[0mappend\u001b[0m\u001b[1;33m(\u001b[0m\u001b[0mmean_absolute_error\u001b[0m\u001b[1;33m(\u001b[0m\u001b[0mval_y\u001b[0m\u001b[1;33m,\u001b[0m \u001b[0mval_pred\u001b[0m\u001b[1;33m)\u001b[0m\u001b[1;33m)\u001b[0m\u001b[1;33m\u001b[0m\u001b[1;33m\u001b[0m\u001b[0m\n",
      "\u001b[1;31mNameError\u001b[0m: name 'val_pred' is not defined"
     ]
    }
   ],
   "source": [
    "import xgboost\n",
    "\n",
    "x_train, x_test, y_train, y_test = train_test_split(X1,Y,test_size = 0.4, random_state = 0)\n",
    "\n",
    "x_test,x_valid,y_test,y_valid =train_test_split(x_test,y_test,test_size=0.5,random_state=0)\n",
    "\n",
    "clf =xgboost\n",
    "train_matrix=clf.DMatrix(x_train, label= y_train, missing=-1)\n",
    "test_matrix=clf.DMatrix(x_test, label=y_test, missing=-1)\n",
    "z = clf.DMatrix(x_valid, label = y_valid, missing=-1)\n",
    "params = {'booster': 'gbtree',\n",
    "#           'eval_metric': ':softpro',\n",
    "          'gamma': 1,\n",
    "          'min_child_weight': 1.5,\n",
    "          'max_depth': 8,\n",
    "          'lambda': 10,\n",
    "          'subsample': 0.7,\n",
    "          'colsample_bytree': 0.7,\n",
    "          'colsample_bylevel': 0.7,\n",
    "          'eta': 0.01,\n",
    "          'tree_method': 'exact',\n",
    "          'seed': 2021,\n",
    "          'nthread': 36,\n",
    "#           \"silent\": True,\n",
    "          'num_class': 2\n",
    "          }\n",
    "\n",
    "watchlist = [(train_matrix, 'train'),(test_matrix, 'eval')]\n",
    "\n",
    "model = clf.train(params, train_matrix, num_boost_round=50000, evals=watchlist, verbose_eval=500, early_stopping_rounds=200)\n",
    "# val_pred  = model.predict(valid_matrix, ntree_limit=model.best_ntree_limit)\n",
    "test_pred = model.predict(z , ntree_limit=model.best_ntree_limit)"
   ]
  },
  {
   "cell_type": "code",
   "execution_count": 44,
   "id": "fantastic-musician",
   "metadata": {},
   "outputs": [
    {
     "data": {
      "text/plain": [
       "array([1., 1., 1., ..., 1., 1., 1.], dtype=float32)"
      ]
     },
     "execution_count": 44,
     "metadata": {},
     "output_type": "execute_result"
    }
   ],
   "source": [
    "test_pred"
   ]
  },
  {
   "cell_type": "code",
   "execution_count": 45,
   "id": "organic-swimming",
   "metadata": {},
   "outputs": [
    {
     "name": "stdout",
     "output_type": "stream",
     "text": [
      "              precision    recall  f1-score   support\n",
      "\n",
      "           0       0.00      0.00      0.00       261\n",
      "           1       1.00      1.00      1.00   1311315\n",
      "\n",
      "    accuracy                           1.00   1311576\n",
      "   macro avg       0.50      0.50      0.50   1311576\n",
      "weighted avg       1.00      1.00      1.00   1311576\n",
      "\n"
     ]
    },
    {
     "data": {
      "image/png": "[encoded data removed]",
      "text/plain": [
       "<Figure size 432x288 with 2 Axes>"
      ]
     },
     "metadata": {
      "needs_background": "light"
     },
     "output_type": "display_data"
    }
   ],
   "source": [
    "def pre_class1(map_data):\n",
    "    if map_data>0.7:\n",
    "        return 1\n",
    "    else:\n",
    "        return 0\n",
    "pre=[]\n",
    "for i in test_pred:\n",
    "    pre.append(pre_class1(i))\n",
    "from sklearn.metrics import confusion_matrix\n",
    "# classes = list(set(y_test))\n",
    "confusion = confusion_matrix(y_test,pre) \n",
    "ax = sns.heatmap(pd.DataFrame(confusion),annot=True,fmt='.20g',cmap=\"Blues\")\n",
    "ax.set_title('confusion matrix') #标题\n",
    "ax.set_xlabel('predict') #x轴\n",
    "ax.set_ylabel('true') #yconfusion\n",
    "from sklearn.metrics import classification_report\n",
    "print(classification_report(y_test,pre))"
   ]
  },
  {
   "cell_type": "markdown",
   "id": "liked-heater",
   "metadata": {},
   "source": [
    "#### 混淆矩阵的计算\n"
   ]
  },
  {
   "attachments": {
    "image.png": {
     "image/png": "[encoded data removed]"
    }
   },
   "cell_type": "markdown",
   "id": "whole-basic",
   "metadata": {},
   "source": [
    "![image.png](attachment:image.png)"
   ]
  },
  {
   "cell_type": "code",
   "execution_count": 16,
   "id": "tracked-humanity",
   "metadata": {},
   "outputs": [
    {
     "data": {
      "image/png": "[encoded data removed]",
      "text/plain": [
       "<Figure size 432x288 with 2 Axes>"
      ]
     },
     "metadata": {
      "needs_background": "light"
     },
     "output_type": "display_data"
    }
   ],
   "source": [
    "confus=[[1395,241],\n",
    "       [73,1483071]]\n",
    "from sklearn.metrics import confusion_matrix\n",
    "# classes = list(set(y_test))\n",
    "confusion = confus \n",
    "ax = sns.heatmap(pd.DataFrame(confusion),annot=True,fmt='.20g',cmap=\"Blues\")\n",
    "ax.set_title('confusion matrix') #标题\n",
    "ax.set_xlabel('predict') #x轴\n",
    "ax.set_ylabel('true') #yconfusion\n",
    "plt.savefig(\"../决策.png\")"
   ]
  },
  {
   "cell_type": "code",
   "execution_count": 15,
   "id": "accepted-pressing",
   "metadata": {},
   "outputs": [
    {
     "data": {
      "text/plain": [
       "1483071"
      ]
     },
     "execution_count": 15,
     "metadata": {},
     "output_type": "execute_result"
    }
   ],
   "source": [
    "1483144-73"
   ]
  },
  {
   "cell_type": "code",
   "execution_count": 9,
   "id": "ideal-green",
   "metadata": {},
   "outputs": [
    {
     "data": {
      "text/plain": [
       "1483144"
      ]
     },
     "execution_count": 9,
     "metadata": {},
     "output_type": "execute_result"
    }
   ],
   "source": [
    "1482713+431"
   ]
  },
  {
   "cell_type": "code",
   "execution_count": 7,
   "id": "dominant-marijuana",
   "metadata": {},
   "outputs": [
    {
     "data": {
      "text/plain": [
       "1482927"
      ]
     },
     "execution_count": 7,
     "metadata": {},
     "output_type": "execute_result"
    }
   ],
   "source": [
    "1482713+214"
   ]
  },
  {
   "cell_type": "code",
   "execution_count": 8,
   "id": "assumed-comfort",
   "metadata": {},
   "outputs": [
    {
     "data": {
      "text/plain": [
       "1482685"
      ]
     },
     "execution_count": 8,
     "metadata": {},
     "output_type": "execute_result"
    }
   ],
   "source": [
    "1482927-242"
   ]
  },
  {
   "cell_type": "code",
   "execution_count": null,
   "id": "theoretical-discount",
   "metadata": {},
   "outputs": [],
   "source": []
  }
 ],
 "metadata": {
  "kernelspec": {
   "display_name": "Python 3",
   "language": "python",
   "name": "python3"
  },
  "language_info": {
   "codemirror_mode": {
    "name": "ipython",
    "version": 3
   },
   "file_extension": ".py",
   "mimetype": "text/x-python",
   "name": "python",
   "nbconvert_exporter": "python",
   "pygments_lexer": "ipython3",
   "version": "3.7.4"
  },
  "toc": {
   "base_numbering": 1,
   "nav_menu": {},
   "number_sections": true,
   "sideBar": true,
   "skip_h1_title": false,
   "title_cell": "Table of Contents",
   "title_sidebar": "Contents",
   "toc_cell": false,
   "toc_position": {},
   "toc_section_display": true,
   "toc_window_display": true
  }
 },
 "nbformat": 4,
 "nbformat_minor": 5
}
