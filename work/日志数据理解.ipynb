{
 "cells": [
  {
   "cell_type": "code",
   "execution_count": 1,
   "id": "developed-mistress",
   "metadata": {},
   "outputs": [],
   "source": [
    "import pandas as pd\n",
    "import os\n",
    "import math      \n",
    "import numpy as np\n",
    "from tqdm import tqdm\n",
    "import matplotlib.pyplot as plt \n",
    "import time\n",
    "import warnings \n",
    "import seaborn as sns \n",
    "warnings.filterwarnings('ignore') "
   ]
  },
  {
   "cell_type": "code",
   "execution_count": 4,
   "id": "complete-photographer",
   "metadata": {},
   "outputs": [],
   "source": [
    "logs_data=pd.read_csv(\"../../dataSet/newNewEVENT2_1.csv\",index_col=\"Unnamed: 0\")"
   ]
  },
  {
   "cell_type": "code",
   "execution_count": 6,
   "id": "political-candidate",
   "metadata": {},
   "outputs": [
    {
     "data": {
      "text/html": [
       "<div>\n",
       "<style scoped>\n",
       "    .dataframe tbody tr th:only-of-type {\n",
       "        vertical-align: middle;\n",
       "    }\n",
       "\n",
       "    .dataframe tbody tr th {\n",
       "        vertical-align: top;\n",
       "    }\n",
       "\n",
       "    .dataframe thead th {\n",
       "        text-align: right;\n",
       "    }\n",
       "</style>\n",
       "<table border=\"1\" class=\"dataframe\">\n",
       "  <thead>\n",
       "    <tr style=\"text-align: right;\">\n",
       "      <th></th>\n",
       "      <th>时间</th>\n",
       "      <th>工作编号</th>\n",
       "      <th>工作内容</th>\n",
       "      <th>相关数值</th>\n",
       "      <th>中文翻译</th>\n",
       "    </tr>\n",
       "  </thead>\n",
       "  <tbody>\n",
       "    <tr>\n",
       "      <th>0</th>\n",
       "      <td>2021-08-10 00:00:03</td>\n",
       "      <td>40529</td>\n",
       "      <td>Temperature</td>\n",
       "      <td>NaN</td>\n",
       "      <td>温度</td>\n",
       "    </tr>\n",
       "    <tr>\n",
       "      <th>1</th>\n",
       "      <td>2021-08-10 00:00:03</td>\n",
       "      <td>40530</td>\n",
       "      <td>Humidity</td>\n",
       "      <td>NaN</td>\n",
       "      <td>湿度</td>\n",
       "    </tr>\n",
       "    <tr>\n",
       "      <th>2</th>\n",
       "      <td>2021-08-10 00:01:02</td>\n",
       "      <td>40529</td>\n",
       "      <td>Temperature</td>\n",
       "      <td>NaN</td>\n",
       "      <td>温度</td>\n",
       "    </tr>\n",
       "    <tr>\n",
       "      <th>3</th>\n",
       "      <td>2021-08-10 00:01:02</td>\n",
       "      <td>40530</td>\n",
       "      <td>Humidity</td>\n",
       "      <td>NaN</td>\n",
       "      <td>湿度</td>\n",
       "    </tr>\n",
       "    <tr>\n",
       "      <th>4</th>\n",
       "      <td>2021-08-10 00:02:02</td>\n",
       "      <td>40529</td>\n",
       "      <td>Temperature</td>\n",
       "      <td>NaN</td>\n",
       "      <td>温度</td>\n",
       "    </tr>\n",
       "  </tbody>\n",
       "</table>\n",
       "</div>"
      ],
      "text/plain": [
       "                    时间   工作编号         工作内容 相关数值 中文翻译\n",
       "0  2021-08-10 00:00:03  40529  Temperature  NaN   温度\n",
       "1  2021-08-10 00:00:03  40530     Humidity  NaN   湿度\n",
       "2  2021-08-10 00:01:02  40529  Temperature  NaN   温度\n",
       "3  2021-08-10 00:01:02  40530     Humidity  NaN   湿度\n",
       "4  2021-08-10 00:02:02  40529  Temperature  NaN   温度"
      ]
     },
     "execution_count": 6,
     "metadata": {},
     "output_type": "execute_result"
    }
   ],
   "source": [
    "logs_data.head()"
   ]
  },
  {
   "cell_type": "code",
   "execution_count": 13,
   "id": "superior-drunk",
   "metadata": {},
   "outputs": [
    {
     "data": {
      "text/plain": [
       "工作内容\n",
       "Fiducial Alignment Started       8368\n",
       "Stencil alignment start          8225\n",
       "Stencil alignment end            8225\n",
       "Valid Dongle Detected            8198\n",
       "Traceability Data Available      8121\n",
       "                                 ... \n",
       "Paste Dispense Complete             1\n",
       "Camera Y failed to position         1\n",
       "Auto paste dispense started         1\n",
       "Auto paste dispense completed       1\n",
       "Adjust Ended                        1\n",
       "Length: 68, dtype: int64"
      ]
     },
     "execution_count": 13,
     "metadata": {},
     "output_type": "execute_result"
    }
   ],
   "source": [
    "logs_data.value_counts(\"工作内容\")"
   ]
  },
  {
   "cell_type": "code",
   "execution_count": null,
   "id": "greek-dating",
   "metadata": {},
   "outputs": [],
   "source": []
  }
 ],
 "metadata": {
  "kernelspec": {
   "display_name": "Python 3",
   "language": "python",
   "name": "python3"
  },
  "language_info": {
   "codemirror_mode": {
    "name": "ipython",
    "version": 3
   },
   "file_extension": ".py",
   "mimetype": "text/x-python",
   "name": "python",
   "nbconvert_exporter": "python",
   "pygments_lexer": "ipython3",
   "version": "3.7.4"
  },
  "toc": {
   "base_numbering": 1,
   "nav_menu": {},
   "number_sections": true,
   "sideBar": true,
   "skip_h1_title": false,
   "title_cell": "Table of Contents",
   "title_sidebar": "Contents",
   "toc_cell": false,
   "toc_position": {},
   "toc_section_display": true,
   "toc_window_display": false
  }
 },
 "nbformat": 4,
 "nbformat_minor": 5
}
